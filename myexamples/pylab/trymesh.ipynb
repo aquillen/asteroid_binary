{
 "cells": [
  {
   "cell_type": "code",
   "execution_count": 1,
   "metadata": {},
   "outputs": [],
   "source": [
    "import numpy as np\n",
    "import matplotlib.pyplot as plt\n",
    "%matplotlib inline"
   ]
  },
  {
   "cell_type": "code",
   "execution_count": 2,
   "metadata": {},
   "outputs": [],
   "source": [
    "import pymesh\n",
    "#https://pymesh.readthedocs.io/en/latest/basic.html\n",
    "\n",
    "\n",
    "import meshplot\n",
    "# for display of meshes\n",
    "#https://skoch9.github.io/meshplot/tutorial/"
   ]
  },
  {
   "cell_type": "code",
   "execution_count": 35,
   "metadata": {},
   "outputs": [],
   "source": [
    "vertices = np.array([\n",
    "...     [ 1.0, 0.0, 0.0],\n",
    "...     [ 0.0, 1.0, 0.0],\n",
    "...     [-1.0, 0.0, 0.0],\n",
    "...     [ 0.0,-1.0, 0.0],\n",
    "...     [ 0.0, 0.0, 1.0],\n",
    "...     [ 0.0, 0.0,-1.0]\n",
    "...     ]);"
   ]
  },
  {
   "cell_type": "code",
   "execution_count": 36,
   "metadata": {},
   "outputs": [
    {
     "data": {
      "text/plain": [
       "array([[ 1.,  0.,  0.],\n",
       "       [ 0.,  1.,  0.],\n",
       "       [-1.,  0.,  0.],\n",
       "       [ 0., -1.,  0.],\n",
       "       [ 0.,  0.,  1.],\n",
       "       [ 0.,  0., -1.]])"
      ]
     },
     "execution_count": 36,
     "metadata": {},
     "output_type": "execute_result"
    }
   ],
   "source": [
    "vertices"
   ]
  },
  {
   "cell_type": "code",
   "execution_count": 44,
   "metadata": {},
   "outputs": [],
   "source": [
    "faces = np.array([\n",
    "...     [0, 1, 4],\n",
    "...     [1, 2, 4],\n",
    "...     [2, 3, 4],\n",
    "...     [3, 0, 4],\n",
    "...     [1, 0, 5],\n",
    "...     [2, 1, 5],\n",
    "...     [3, 2, 5],\n",
    "...     [0, 3, 5],\n",
    "...     ]);\n",
    "mesh = pymesh.form_mesh(vertices, faces);"
   ]
  },
  {
   "cell_type": "code",
   "execution_count": 38,
   "metadata": {},
   "outputs": [
    {
     "data": {
      "text/plain": [
       "array([[ 1.,  0.,  0.],\n",
       "       [ 0.,  1.,  0.],\n",
       "       [-1.,  0.,  0.],\n",
       "       [ 0., -1.,  0.],\n",
       "       [ 0.,  0.,  1.],\n",
       "       [ 0.,  0., -1.]])"
      ]
     },
     "execution_count": 38,
     "metadata": {},
     "output_type": "execute_result"
    }
   ],
   "source": [
    "mesh.vertices"
   ]
  },
  {
   "cell_type": "code",
   "execution_count": 45,
   "metadata": {},
   "outputs": [
    {
     "data": {
      "text/plain": [
       "array([[0, 1, 4],\n",
       "       [1, 2, 4],\n",
       "       [2, 3, 4],\n",
       "       [3, 0, 4],\n",
       "       [1, 0, 5],\n",
       "       [2, 1, 5],\n",
       "       [3, 2, 5],\n",
       "       [0, 3, 5]], dtype=int32)"
      ]
     },
     "execution_count": 45,
     "metadata": {},
     "output_type": "execute_result"
    }
   ],
   "source": [
    "mesh.faces"
   ]
  },
  {
   "cell_type": "code",
   "execution_count": 69,
   "metadata": {},
   "outputs": [],
   "source": [
    "mesh.add_attribute(\"face_area\")\n",
    "mesh.add_attribute(\"face_normal\")\n",
    "#mesh.add_attribute(\"vertex_normal\")\n",
    "mesh.add_attribute(\"face_centroid\")\n"
   ]
  },
  {
   "cell_type": "code",
   "execution_count": 47,
   "metadata": {},
   "outputs": [
    {
     "name": "stdout",
     "output_type": "stream",
     "text": [
      "[0.8660254 0.8660254 0.8660254 0.8660254 0.8660254 0.8660254 0.8660254\n",
      " 0.8660254]\n"
     ]
    }
   ],
   "source": [
    "f_area = mesh.get_attribute(\"face_area\")\n",
    "print(f_area)"
   ]
  },
  {
   "cell_type": "code",
   "execution_count": 48,
   "metadata": {},
   "outputs": [
    {
     "name": "stdout",
     "output_type": "stream",
     "text": [
      "[[ 0.57735027  0.57735027  0.57735027]\n",
      " [-0.57735027  0.57735027  0.57735027]\n",
      " [-0.57735027 -0.57735027  0.57735027]\n",
      " [ 0.57735027 -0.57735027  0.57735027]\n",
      " [ 0.57735027  0.57735027 -0.57735027]\n",
      " [-0.57735027  0.57735027 -0.57735027]\n",
      " [-0.57735027 -0.57735027 -0.57735027]\n",
      " [ 0.57735027 -0.57735027 -0.57735027]]\n"
     ]
    }
   ],
   "source": [
    "f_normal = mesh.get_face_attribute('face_normal')\n",
    "print(f_normal)"
   ]
  },
  {
   "cell_type": "code",
   "execution_count": 70,
   "metadata": {},
   "outputs": [
    {
     "data": {
      "text/plain": [
       "['face_area', 'face_centroid', 'face_normal', 'vertex_normal']"
      ]
     },
     "execution_count": 70,
     "metadata": {},
     "output_type": "execute_result"
    }
   ],
   "source": [
    "mesh.get_attribute_names()"
   ]
  },
  {
   "cell_type": "code",
   "execution_count": 67,
   "metadata": {},
   "outputs": [
    {
     "data": {
      "text/plain": [
       "True"
      ]
     },
     "execution_count": 67,
     "metadata": {},
     "output_type": "execute_result"
    }
   ],
   "source": [
    "mesh.is_closed()"
   ]
  },
  {
   "cell_type": "code",
   "execution_count": 68,
   "metadata": {},
   "outputs": [
    {
     "data": {
      "text/plain": [
       "True"
      ]
     },
     "execution_count": 68,
     "metadata": {},
     "output_type": "execute_result"
    }
   ],
   "source": [
    "mesh.is_oriented()"
   ]
  },
  {
   "cell_type": "code",
   "execution_count": 63,
   "metadata": {},
   "outputs": [],
   "source": [
    "carr = np.array([0.5,0.0,0.3])  # color it!\n"
   ]
  },
  {
   "cell_type": "code",
   "execution_count": 66,
   "metadata": {
    "scrolled": false
   },
   "outputs": [
    {
     "data": {
      "application/vnd.jupyter.widget-view+json": {
       "model_id": "f561a61c5b2044aa90b9f4b74c827929",
       "version_major": 2,
       "version_minor": 0
      },
      "text/plain": [
       "Renderer(camera=PerspectiveCamera(children=(DirectionalLight(color='white', intensity=0.6, position=(0.0, 0.0,…"
      ]
     },
     "metadata": {},
     "output_type": "display_data"
    },
    {
     "data": {
      "text/plain": [
       "<meshplot.Viewer.Viewer at 0x7f94e3d18460>"
      ]
     },
     "execution_count": 66,
     "metadata": {},
     "output_type": "execute_result"
    }
   ],
   "source": [
    "meshplot.plot(mesh.vertices, mesh.faces, c=carr)"
   ]
  },
  {
   "cell_type": "code",
   "execution_count": 72,
   "metadata": {},
   "outputs": [],
   "source": [
    "q = pymesh.Quaternion(quat=[1, 0, 0, 0])\n",
    "Rrot=q.to_matrix()"
   ]
  },
  {
   "cell_type": "code",
   "execution_count": 74,
   "metadata": {},
   "outputs": [
    {
     "data": {
      "text/plain": [
       "array([[1., 0., 0.],\n",
       "       [0., 1., 0.],\n",
       "       [0., 0., 1.]])"
      ]
     },
     "execution_count": 74,
     "metadata": {},
     "output_type": "execute_result"
    }
   ],
   "source": [
    "Rrot"
   ]
  },
  {
   "cell_type": "code",
   "execution_count": 84,
   "metadata": {},
   "outputs": [
    {
     "name": "stdout",
     "output_type": "stream",
     "text": [
      "0.9689124217106448 0.24740395925452296 0.0 0.0\n"
     ]
    }
   ],
   "source": [
    "axis = np.array([1,0,0])\n",
    "angle = 0.5\n",
    "q = pymesh.Quaternion.fromAxisAngle(axis, angle)\n",
    "print(q.w,q.x,q.y,q.z)"
   ]
  },
  {
   "cell_type": "code",
   "execution_count": 85,
   "metadata": {},
   "outputs": [
    {
     "name": "stdout",
     "output_type": "stream",
     "text": [
      "[[ 1.          0.          0.        ]\n",
      " [ 0.          0.87758256 -0.47942554]\n",
      " [ 0.          0.47942554  0.87758256]]\n"
     ]
    }
   ],
   "source": [
    "Rrot=q.to_matrix()\n",
    "print(Rrot)"
   ]
  },
  {
   "cell_type": "code",
   "execution_count": 86,
   "metadata": {},
   "outputs": [
    {
     "name": "stdout",
     "output_type": "stream",
     "text": [
      "[[ 1.          0.          0.        ]\n",
      " [ 0.          0.87758256  0.47942554]\n",
      " [ 0.         -0.47942554  0.87758256]]\n"
     ]
    }
   ],
   "source": [
    "qp = q.conjugate()\n",
    "Rrot=qp.to_matrix()\n",
    "print(Rrot)"
   ]
  },
  {
   "cell_type": "code",
   "execution_count": 79,
   "metadata": {},
   "outputs": [
    {
     "data": {
      "text/plain": [
       "0.0"
      ]
     },
     "execution_count": 79,
     "metadata": {},
     "output_type": "execute_result"
    }
   ],
   "source": [
    "q.x"
   ]
  },
  {
   "cell_type": "code",
   "execution_count": 59,
   "metadata": {},
   "outputs": [
    {
     "data": {
      "application/vnd.jupyter.widget-view+json": {
       "model_id": "a423f2867b764f4d96299f1ebc238d26",
       "version_major": 2,
       "version_minor": 0
      },
      "text/plain": [
       "Renderer(camera=PerspectiveCamera(children=(DirectionalLight(color='white', intensity=0.6, position=(0.0, 0.0,…"
      ]
     },
     "metadata": {},
     "output_type": "display_data"
    },
    {
     "data": {
      "text/plain": [
       "<meshplot.Viewer.Viewer at 0x7f94e3d09280>"
      ]
     },
     "execution_count": 59,
     "metadata": {},
     "output_type": "execute_result"
    }
   ],
   "source": [
    "center = np.array([0,0,0])\n",
    "sphere = pymesh.generate_icosphere(1., center, refinement_order=3)\n",
    "meshplot.plot(sphere.vertices, sphere.faces)"
   ]
  },
  {
   "cell_type": "code",
   "execution_count": null,
   "metadata": {},
   "outputs": [],
   "source": []
  }
 ],
 "metadata": {
  "kernelspec": {
   "display_name": "Python 3",
   "language": "python",
   "name": "python3"
  },
  "language_info": {
   "codemirror_mode": {
    "name": "ipython",
    "version": 3
   },
   "file_extension": ".py",
   "mimetype": "text/x-python",
   "name": "python",
   "nbconvert_exporter": "python",
   "pygments_lexer": "ipython3",
   "version": "3.8.3"
  }
 },
 "nbformat": 4,
 "nbformat_minor": 4
}
