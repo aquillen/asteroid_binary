{
 "cells": [
  {
   "cell_type": "code",
   "execution_count": 1,
   "metadata": {},
   "outputs": [],
   "source": [
    "import numpy as np\n",
    "import matplotlib.pyplot as plt\n",
    "%matplotlib inline\n",
    "\n",
    "import pymesh\n",
    "#https://pymesh.readthedocs.io/en/latest/basic.html\n",
    "# https://github.com/PyMesh/PyMesh\n",
    "\n",
    "\n",
    "import meshplot\n",
    "# for display of meshes\n",
    "#https://skoch9.github.io/meshplot/tutorial/\n",
    "\n",
    "import random\n",
    "\n",
    "from multiprocessing import Pool #  Process pool\n",
    "from multiprocessing import sharedctypes\n",
    "import time\n",
    "from functools import partial\n",
    "#MULTITHREADING Adjustment\n",
    "#Sample Multithreading Code \n",
    "# from https://jonasteuwen.github.io/numpy/python/multiprocessing/2017/01/07/multiprocessing-numpy-array.html\n",
    "# https://thebinarynotes.com/python-multiprocessing/\n",
    "\n",
    "\n",
    "# nicer plots\n",
    "plt.rcParams['xtick.labelsize'] = 14\n",
    "plt.rcParams['ytick.labelsize'] = 14\n",
    "\n",
    "#from pathos.multiprocessing import ProcessingPool as Poolp\n",
    "\n",
    "import quaternion\n",
    "import sys\n",
    "# shape models available here:\n",
    "#https://www.naic.edu/~smarshal/1999kw4.html\n",
    "#Squannit is secondary of Moshup which was 1999KW4\n"
   ]
  },
  {
   "cell_type": "markdown",
   "metadata": {},
   "source": [
    "#### Problems:\n",
    "our BYORP coeff seems consistent with the BYORP B.\n",
    "But squannit is giving B  of order 1 or 5 or so.\n",
    "This is 2 orders of mag too big.\n",
    "\n",
    "We could have an error in the quaturnion\n",
    "\n",
    "We could have an error in the face normals.\n",
    "\n",
    "We could havve an error in the face areas."
   ]
  },
  {
   "cell_type": "markdown",
   "metadata": {},
   "source": [
    "### code for BYORP calculation"
   ]
  },
  {
   "cell_type": "markdown",
   "metadata": {},
   "source": [
    "\n",
    "The surface thermal inertia is neglected, so that thermal radiation is re-emitted with no time lag, and the reflected and thermally radiated components are assumed Lambertian (isotropic) and so emitted with flux\n",
    "parallel to the local surface normal. We ignore heat conduction. The surface is described with a closed\n",
    "triangular mesh.\n",
    "\n",
    "\n",
    "The radiation force from the $i$-th facet is\n",
    "$$ {\\bf F}_i  = - \\frac{F_\\odot}{c} {S_i} (\\hat {\\bf n}_i \\cdot \\hat {\\bf s}_\\odot) \\hat {\\bf n}_i $$\n",
    "where  $S_i$ is the area of the $i$-th facet and $\\hat {\\bf n}_i$ is its surface normal.\n",
    "Here $F_\\odot$ is the solar radiation flux and $c$ is the speed of light.\n",
    "The direction of the Sun is $\\hat {\\bf s}_\\odot$.\n",
    "\n",
    "The total Yarkovsky force is a sum over all the facets \n",
    "$${\\bf F}_Y = \\sum_{i: \\hat {\\bf n}_i \\cdot \\hat {\\bf s}_\\odot >0} {\\bf F}_i $$\n",
    "Only facets on the day side  or with $\\hat {\\bf n}_i \\cdot \\hat {\\bf s}_\\odot >0$ \n",
    "are included in the sum.\n",
    "\n",
    "The torque affecting the binary orbit from a single facet is \n",
    "$$ {\\boldsymbol \\tau}_{i,B} = \n",
    "\\begin{cases} \n",
    "- \\frac{F_\\odot}{c} {S_i} (\\hat {\\bf n}_i \\cdot \\hat {\\bf s}_\\odot) ( {\\bf a}_B \\times \\hat {\\bf n}_i)  \n",
    " & \\mbox{if } \\hat {\\bf n}_i \\cdot \\hat {\\bf s}_\\odot >0  \\\\\n",
    " 0 & \\mbox{otherwise}\n",
    " \\end{cases}\n",
    "$$\n",
    "where ${\\bf a}_B$ is the secondary's radial vector from the binary center of mass.\n",
    "\n",
    "\n",
    "The torque affecting the binary orbit is the sum of the torques from each facet and should be an average \n",
    "over the orbit around the Sun and \n",
    "over the binary orbit and spin of the secondary.\n",
    "$$ {\\boldsymbol \\tau}_{BY} = \\frac{1}{T} \\int_0^T dt\\   \\sum_{i: \\hat {\\bf n}_i \\cdot \\hat {\\bf s}_\\odot >0} \n",
    "{\\boldsymbol \\tau}_{i,B} $$\n",
    "\n",
    "\n",
    "If $\\hat {\\bf l}$ is the binary orbit normal then \n",
    "$$ {\\boldsymbol \\tau}_{BY} \\cdot \\hat {\\bf l} $$ \n",
    "changes the binary's orbital angular momentum and causes binary orbit migration.\n",
    "\n",
    "\n",
    "The torque affecting the spin (also known as YORP) instantaneously depends on \n",
    "the radii of each facit ${\\bf r}_i$ from the asteroid center of mass \n",
    "$$ {\\boldsymbol \\tau}_{i,s}  = \\begin{cases}\n",
    "- \\frac{F_\\odot}{c} {S_i} (\\hat {\\bf n}_i \\cdot \\hat {\\bf s}_\\odot)  ({\\bf r}_i \\times \\hat{\\bf n}_i) \n",
    " & \\mbox{if } \\hat {\\bf n}_i \\cdot \\hat {\\bf s}_\\odot >0  \\\\\n",
    "0 & \\mbox{otherwise}\n",
    "\\end{cases}$$\n",
    "\n",
    "\n",
    "$$ {\\boldsymbol \\tau}_Y = \\frac{1}{T} \\int_0^T dt \\  \\sum_{i: \\hat {\\bf n}_i \\cdot \\hat {\\bf s}_\\odot >0} {\\boldsymbol \\tau}_{i,s} $$\n",
    "where the average is done over the orbit about the Sun and the spin of the asteroid.\n",
    "If the spin axis is $\\hat {\\boldsymbol \\omega}$ then \n",
    "$$ {\\boldsymbol \\tau}_Y \\cdot \\hat {\\boldsymbol \\omega}  $$ gives the body spin up or spin down rate.\n",
    "\n",
    "\n",
    "In practice we average over the Sun's directions first and then average over spin (for YORP) or and spin and binary orbit direction (for BYORP) afterward.\n"
   ]
  },
  {
   "cell_type": "markdown",
   "metadata": {},
   "source": [
    "<b> Units </b> \n",
    "\n",
    "For our calculation are $F_\\odot/c = 1$.\n",
    "\n",
    "For YORP $R=1$.\n",
    "For BYORP $a_B = 1$ and $R=1$ (in the surface area).\n",
    "\n",
    "Here $R$ is volume equivalent sphere radius.\n",
    "\n",
    "To put in physical units: \n",
    "\n",
    "Multiply ${\\boldsymbol \\tau}_Y$ by $\\frac{F_\\odot R^3}{c}$.\n",
    "\n",
    "Multiply ${\\boldsymbol \\tau}_{BY}$ by $\\frac{F_\\odot R^2 a_B}{c}$.\n",
    "\n",
    "Alternatively we are computing:\n",
    "\n",
    "${\\boldsymbol \\tau}_Y \\times \\frac{c}{F_\\odot R^3} $ \n",
    "\n",
    "${\\boldsymbol \\tau}_{BY} \\times \\frac{c}{F_\\odot R^2 a_B} $ \n",
    "\n",
    "\n",
    "To get the rate the spin changes for YORP\n",
    "\n",
    "$\\dot \\omega = \\frac{ {\\boldsymbol \\tau}_Y \\cdot \\hat {\\bf s} }{C} $\n",
    "\n",
    "where $C$ is the moment of inertia about the spin axis.\n",
    "\n",
    "To order of magnitude what we are computing can be multiplied by \n",
    "$\\frac{F_\\odot R^3}{c MR^2} $ to estimate $\\dot \\omega$\n",
    "and by $\\frac{F_\\odot R^3}{c MR^2 \\omega} $\n",
    "to estimate $\\dot \\epsilon$. \n",
    "\n",
    "To get the rate that obliquity changes for YORP\n",
    "\n",
    "$\\dot \\epsilon = \\frac{ {\\boldsymbol \\tau}_Y \\cdot \\hat {\\boldsymbol \\phi} }{C \\omega} $\n",
    "\n",
    "where unit vector $\\hat {\\boldsymbol \\phi}$ is in the xy plane (ecliptic) and is perpendicular to the spin axis.\n",
    "\n",
    "To get the semi-major axis drift rate for BYORP\n",
    "\n",
    "$ \\dot a_B = \\frac{2 {\\boldsymbol \\tau}_{BY} \\cdot \\hat {\\bf l}}{M n_Ba_B} $\n",
    "\n",
    "where $M$ is the secondary mass, $n_B$ and $a_B$ are binary orbit mean motion and semi-major axis.\n",
    "\n",
    "To order of magnitude to get the drift rate we multiply what we are getting by \n",
    "$\\frac{F_\\odot R^2 a_B}{c} \\times \\frac{1}{M n_B a_B}$.\n",
    "\n",
    "\n",
    "Dimensionless numbers used by Steiberg+10 (eqns 19,48)\n",
    "\n",
    "$f_{Y} \\equiv \\tau_{Y} \\frac{3}{2} \\frac{c}{\\pi R^3 F_\\odot}$\n",
    "\n",
    "$f_{BY} \\equiv \\tau_{BY} \\frac{3}{2} \\frac{c}{\\pi R^2 a_B F_\\odot}$\n",
    "\n",
    "Our computed values are  the same as theirs except for a factor of 3/2 \n",
    "(but they have a 2/3 in their torque) and a factor of $\\pi$.\n",
    "We need to divide by $\\pi$ to have values consistent with theirs."
   ]
  },
  {
   "cell_type": "markdown",
   "metadata": {},
   "source": [
    "<b> Assumptions:</b>\n",
    "\n",
    "Circular orbit for binary.\n",
    "\n",
    "Circuilar orbit for binary around Sun.\n",
    "\n",
    "No shadows.\n",
    "\n",
    "No conduction. Lambertian isotropic emission. No thermal lag.\n",
    "\n",
    "We neglect distance of facet centroids from secondary center of mass when computing BYORP. "
   ]
  },
  {
   "cell_type": "markdown",
   "metadata": {},
   "source": [
    "Coordinate system:\n",
    "binary orbit is kept in xy plane"
   ]
  },
  {
   "cell_type": "markdown",
   "metadata": {},
   "source": [
    "Compare YORP on primary to BYORP on secondary.\n",
    "\n",
    "$\\frac{\\tau_{Yp}}{\\tau_{BY} }\\sim \\frac{R_p^2 }{R_s^2 } \\frac{R_p }{a_B }\\frac{f_Y}{ f_{BY}}$\n",
    "\n",
    "For Didymos, this is about $8 f_Y/f_{BY}$."
   ]
  },
  {
   "cell_type": "code",
   "execution_count": 2,
   "metadata": {},
   "outputs": [
    {
     "name": "stdout",
     "output_type": "stream",
     "text": [
      "-0.7312715117751976\n"
     ]
    }
   ],
   "source": [
    "random.seed(1)\n",
    "print(random.uniform(-1,1))"
   ]
  },
  {
   "cell_type": "code",
   "execution_count": 3,
   "metadata": {},
   "outputs": [],
   "source": [
    "# perturb a sphere (mesh, premade) and stretch it so that\n",
    "# it becomes an ellipsoid.  \n",
    "#    We can't directly edit vertices or faces\n",
    "#    see this:  https://github.com/PyMesh/PyMesh/issues/156\n",
    "#    the work around is to copy the entire mesh after modifying it\n",
    "# arguments:\n",
    "#   devrand,  Randomly add devrand to x,y,z positions of each vertex\n",
    "#     a uniform ditns in [-1,1] is used\n",
    "#   aratio1 and aratio2,  stretch or compress a sphere by aratio1 and aratio2 \n",
    "# returns: a new mesh\n",
    "# we assume that longest semi-major axis a is along x, \n",
    "#    medium semi-axis b is along y, semi-minor c axis is along z\n",
    "# Volume should stay the same!\n",
    "# this routine should work on any shaped body\n",
    "def sphere_perturb(sphere,devrand,aratio1,aratio2):\n",
    "    #devrand = 0.05  # how far to perturb each vertex\n",
    "    nv = len(sphere.vertices)\n",
    "    f = sphere.faces\n",
    "    v = np.copy(sphere.vertices)\n",
    "    # add perturbations to x,y,z to all vertices\n",
    "    for i in range(nv):\n",
    "        dx = devrand*random.uniform(-1,1)\n",
    "        dy = devrand*random.uniform(-1,1)\n",
    "        dz = devrand*random.uniform(-1,1)\n",
    "        v[i,0] += dx\n",
    "        v[i,1] += dy\n",
    "        v[i,2] += dz\n",
    "        \n",
    "    \n",
    "    # aratio1 = c/a  this gives c = aratio1*a\n",
    "    # aratio2 = b/a  this gives b = aratio2*a\n",
    "    # volume = 4/3 pi a*b*c for an ellipsoid\n",
    "    # vol = 1*aratio1*aratio2\n",
    "    # rad_cor = pow(vol,-1./3.)\n",
    "    # v[:,2] *= aratio1*rad_cor # make oblate, adjusts z coords\n",
    "    # v[:,1] *= aratio2*rad_cor # make elongated in xy plane , adjusts y coords\n",
    "    #  v[:,0] *= rad_cor # adjusts x coords\n",
    "    # volume should now stay the same\n",
    "        \n",
    "    sub_com(v) # subtract center of mass from vertex positions\n",
    "    psphere = pymesh.form_mesh(v, f)\n",
    "    psphere.add_attribute(\"face_area\")\n",
    "    psphere.add_attribute(\"face_normal\")\n",
    "    psphere.add_attribute(\"face_centroid\")\n",
    "    \n",
    "    sbody = body_stretch(psphere,aratio1,aratio2)  # do the stretching \n",
    "    return sbody\n",
    "                         \n",
    "\n",
    "# stretch a mesh body by axis ratios \n",
    "# arguments:\n",
    "#    body: mesh\n",
    "#    aratio1: c/a\n",
    "#    aratio2: b/a\n",
    "# returns: a new mesh\n",
    "# we assume that longest semi-major axis a is along x, \n",
    "#    medium semi-axis b is along y, semi-minor c axis is along z\n",
    "# Volume should stay the same!\n",
    "def body_stretch(body,aratio1,aratio2):\n",
    "    nv = len(body.vertices)\n",
    "    f = body.faces\n",
    "    v = np.copy(body.vertices)\n",
    "    \n",
    "    # aratio1 = c/a  this gives c = aratio1*a\n",
    "    # aratio2 = b/a  this gives b = aratio2*a\n",
    "    # volume = 4/3 pi a*b*c for an ellipsoid\n",
    "    vol = 1*aratio1*aratio2\n",
    "    rad_cor = pow(vol,-1./3.)\n",
    "    v[:,2] *= aratio1*rad_cor # make oblate, adjusts z coords\n",
    "    v[:,1] *= aratio2*rad_cor # make elongated in xy plane , adjusts y coords\n",
    "    v[:,0] *= rad_cor # adjusts x coords\n",
    "    # volume should now stay the same\n",
    "    \n",
    "    sub_com(v) # subtract center of mass from vertex positions\n",
    "    sbody = pymesh.form_mesh(v, f)\n",
    "    sbody.add_attribute(\"face_area\")\n",
    "    sbody.add_attribute(\"face_normal\")\n",
    "    sbody.add_attribute(\"face_centroid\")\n",
    "    return sbody\n",
    "    \n",
    "\n",
    "# substract the center of mass from a list of vertices\n",
    "def sub_com(v):\n",
    "    nv = len(v)\n",
    "    xsum = np.sum(v[:,0])\n",
    "    ysum = np.sum(v[:,1])\n",
    "    zsum = np.sum(v[:,2])\n",
    "    xmean = xsum/nv\n",
    "    ymean = ysum/nv\n",
    "    zmean = zsum/nv\n",
    "    v[:,0]-= xmean \n",
    "    v[:,1]-= ymean \n",
    "    v[:,2]-= zmean \n",
    "    \n",
    "# compute surface area by summing area of all facets   \n",
    "# divide by 4pi which is the surface area of a sphere with radius 1\n",
    "def surface_area(mesh):\n",
    "    #f = mesh.faces\n",
    "    S_i = mesh.get_face_attribute('face_area') \n",
    "    area =np.sum(S_i)\n",
    "    return area/(4*np.pi)\n",
    "\n",
    "\n",
    "# print number of faces\n",
    "def nf_mesh(mesh):   \n",
    "    f = mesh.faces\n",
    "    print('number of faces ',len(f))"
   ]
  },
  {
   "cell_type": "code",
   "execution_count": 4,
   "metadata": {},
   "outputs": [],
   "source": [
    "\n",
    "# meshplot with a bounding square\n",
    "def plt_mesh_square(vertices,faces,xmax):\n",
    "    m = np.array([-xmax,-xmax,-xmax])\n",
    "    ma = np.abs(m)\n",
    "\n",
    "    # Corners of the bounding box\n",
    "    v_box = np.array([[-xmax, -xmax, 0], [-xmax, xmax, 0], [xmax, xmax,0] , [xmax, -xmax, 0]])\n",
    "\n",
    "    # Edges of the bounding box\n",
    "    f_box = np.array([[0, 1], [1, 2], [2, 3], [3, 0]], dtype=int)\n",
    "\n",
    "    p = meshplot.plot(vertices, faces, return_plot=True)  # plot body\n",
    "\n",
    "    p.add_edges(v_box, f_box, shading={\"line_color\": \"red\"});\n",
    "    #p.add_points(v_box, shading={\"point_color\": \"green\"})\n",
    "    return p\n",
    "\n",
    "\n",
    "# perform a rotation on a vertex list and return a new set of rotated vertices\n",
    "# rotate about axis and via angle in radians\n",
    "def rotate_vertices(vertices,axis,angle):\n",
    "#     v = np.copy(vertices)\n",
    "#     ### if using pymesh.Quaternion\n",
    "#     qs = pymesh.Quaternion.fromAxisAngle(axis, angle)\n",
    "#     nv = len(v)\n",
    "#     ### loop over all vertices and do the rotation\n",
    "#     for i in range(nv):\n",
    "#          v[i] = qs.rotate(v[i]) ### perform rotation\n",
    "#     return v      \n",
    "    ## if using  np.quaternion\n",
    "    v = np.copy(vertices)\n",
    "    qs = quaternion.from_rotation_vector(rot=axis*angle)       \n",
    "    vp=quaternion.rotate_vectors(qs, v) #####, axis=-1)  # rotate vectors \n",
    "    return vp\n",
    "\n",
    "\n",
    "# compute cross product C=AxB using components\n",
    "def cross_prod_xyz(Ax,Ay,Az,Bx,By,Bz):\n",
    "    Cx = Ay*Bz - Az*By\n",
    "    Cy = Az*Bx - Ax*Bz\n",
    "    Cz = Ax*By - Ay*Bx\n",
    "    return Cx,Cy,Cz\n",
    "\n",
    "# compute face_areas and face normals from a face list and a vertex list\n",
    "def face_areas(vertices,faces):\n",
    "    nf = len(faces)\n",
    "    S_i = np.zeros(nf)\n",
    "    f_normals = np.zeros((nf,3))\n",
    "    for iface in range(nf):\n",
    "        iv1 = faces[iface,0]  # indexes of the 3 vertices\n",
    "        iv2 = faces[iface,1]\n",
    "        iv3 = faces[iface,2]\n",
    "        v1 = vertices[iv1]  # the 3 vertices\n",
    "        v2 = vertices[iv2]\n",
    "        v3 = vertices[iv3]\n",
    "        e1 = v2 - v1   # edge vectors\n",
    "        e2 = v3 - v2\n",
    "        ax,ay,az=cross_prod_xyz(e1[0],e1[1],e1[2],e2[0],e2[1],e2[2])  # cross product\n",
    "        area = np.sqrt(ax**2 + ay**2 + az**2)  # area of parallelogram\n",
    "        S_i[iface] = 0.5*area #  1/2 area of parallelogram spanned by e1, e2 is area of triangle\n",
    "        f_normals[iface,0] = ax/area  #normalize vector cross product \n",
    "        f_normals[iface,1] = ay/area\n",
    "        f_normals[iface,2] = az/area\n",
    "        # signs checked by plotting normal components in color\n",
    "    return S_i,f_normals\n",
    "\n",
    "\n"
   ]
  },
  {
   "cell_type": "code",
   "execution_count": 5,
   "metadata": {},
   "outputs": [],
   "source": [
    "# compute the volume of the tetrahedron formed from face with index iface\n",
    "# and the origin\n",
    "def vol_i(mesh,iface):\n",
    "    f = mesh.faces\n",
    "    v = mesh.vertices\n",
    "    iv1 = f[iface,0]  # indexes of the 3 vertices\n",
    "    iv2 = f[iface,1]\n",
    "    iv3 = f[iface,2]\n",
    "    #print(iv1,iv2,iv3)\n",
    "    v1 = v[iv1]  # the 3 vertices\n",
    "    v2 = v[iv2]\n",
    "    v3 = v[iv3]\n",
    "    #print(v1,v2,v3)\n",
    "    mat = np.array([v1,v2,v3])  \n",
    "    # the volume is equal to 1/6 determinant of the matrix formed with the three vertices\n",
    "    # https://en.wikipedia.org/wiki/Tetrahedron\n",
    "    #print(mat)\n",
    "    vol = np.linalg.det(mat)/6.0  # compute determinant\n",
    "    return vol\n",
    "\n",
    "# compute the volume of the mesh by looping over all tetrahedrons formed from the faces\n",
    "# we assume that the body is convex\n",
    "def volume_mesh(mesh):\n",
    "    f = mesh.faces\n",
    "    nf = len(f)\n",
    "    vol = 0.0\n",
    "    for iface in range(nf):\n",
    "        vol += vol_i(mesh,iface)\n",
    "    return vol\n",
    "        \n",
    "# if vol equ radius is 1  the volume should be equal to 4*np.pi/3 which is 4.1888 \n",
    "    \n",
    "\n",
    "# correct all the radii so that the volume becomes that of a sphere with radius 1\n",
    "# return a new mesh\n",
    "def cor_volume(mesh):\n",
    "    vol = volume_mesh(mesh)\n",
    "    print('Volume {:.4f}'.format(vol))\n",
    "    rad = pow(vol*3/(4*np.pi),1.0/3.0)\n",
    "    print('radius of vol equ sphere {:.4f}'.format(rad))\n",
    "    f = mesh.faces\n",
    "    v = np.copy(mesh.vertices)\n",
    "    v /= rad\n",
    "    newmesh = pymesh.form_mesh(v, f)\n",
    "    newmesh.add_attribute(\"face_area\")\n",
    "    newmesh.add_attribute(\"face_normal\")\n",
    "    newmesh.add_attribute(\"face_centroid\")\n",
    "    vol = volume_mesh(newmesh)\n",
    "    print('new Volume {:.3f}'.format(vol))\n",
    "    return newmesh\n",
    "    "
   ]
  },
  {
   "cell_type": "code",
   "execution_count": 6,
   "metadata": {},
   "outputs": [],
   "source": [
    "# compute the radiation force instantaneously on a triangular mesh for each facit\n",
    "# arguments:  \n",
    "#     S_i  vector of face areas\n",
    "#     f_normal vector of face normals\n",
    "#     s_hat is a 3 length np.array (a unit vector) pointing to the Sun\n",
    "# return the vector F_i for each facet\n",
    "# returns:  F_i_x is the x component of F_i and is a vector that has the length of the number of faces\n",
    "# Force is zero if facets are not on the day side\n",
    "def F_i(S_i,f_normal,s_hat):\n",
    "    s_len = np.sqrt(s_hat[0]**2 + s_hat[1]**2 + s_hat[2]**2)  # in case s_hat was not normalized\n",
    "    \n",
    "    # normal components \n",
    "    nx = np.squeeze(f_normal[:,0])    # a vector, of length number of facets\n",
    "    ny = np.squeeze(f_normal[:,1]) \n",
    "    nz = np.squeeze(f_normal[:,2]) \n",
    "    # dot product of n_i and s_hat\n",
    "    n_dot_s = (nx*s_hat[0] + ny*s_hat[1] + nz*s_hat[2])/s_len  # a vector\n",
    "    F_i_x = -S_i*n_dot_s*nx #  a vector, length number of facets\n",
    "    F_i_y = -S_i*n_dot_s*ny\n",
    "    F_i_z = -S_i*n_dot_s*nz\n",
    "    ii = (n_dot_s <0)  # the night sides \n",
    "    F_i_x[ii] = 0  # get rid of night sides\n",
    "    F_i_y[ii] = 0\n",
    "    F_i_z[ii] = 0\n",
    "    return F_i_x,F_i_y,F_i_z   # these are each vectors for each face\n",
    "\n",
    "# compute radiation forces F_i for each face, but averaging over all positions of the Sun\n",
    "# a circular orbit for the asteroid is assumed\n",
    "# arguments: \n",
    "#    f_areas a vector of face areas\n",
    "#    f_normals a vector of face normals\n",
    "#    nphi_Sun is the number of solar angles, evenly spaced in 2pi so we are assuming circular orbit\n",
    "#    incl is solar orbit inclination in radians\n",
    "# returns: F_i_x average and other 2 components of forces for each facet\n",
    "def F_i_sun_ave(f_areas,f_normals,nphi_Sun,incl):\n",
    "    dphi = 2*np.pi/nphi_Sun\n",
    "    # compute the first set of forces so we have vectors the right length\n",
    "    phi = 0.0\n",
    "    s_hat = np.array([np.cos(phi)*np.cos(incl),np.sin(phi)*np.cos(incl),np.sin(incl)])\n",
    "    # compute the radiation force instantaneously on the triangular mesh for sun at s_hat\n",
    "    F_i_x_sum,F_i_y_sum,F_i_z_sum = F_i(f_areas,f_normals,s_hat)\n",
    "    # now compute the forces for the rest of the solar angles\n",
    "    for i in range(1,nphi_Sun): # do the rest of the angles\n",
    "        phi = i*dphi\n",
    "        s_hat = np.array([np.cos(phi)*np.cos(incl),np.sin(phi)*np.cos(incl),np.sin(incl)])\n",
    "        # compute the radiation force instantaneously on the triangular mesh for sun at s_hat\n",
    "        F_i_x,F_i_y,F_i_z = F_i(f_areas,f_normals,s_hat)  \n",
    "        # These are vectors of length number of facets\n",
    "        F_i_x_sum += F_i_x  # sum up forces\n",
    "        F_i_y_sum += F_i_y\n",
    "        F_i_z_sum += F_i_z\n",
    "    F_i_x_ave = F_i_x_sum/nphi_Sun  # average\n",
    "    F_i_y_ave = F_i_y_sum/nphi_Sun\n",
    "    F_i_z_ave = F_i_z_sum/nphi_Sun\n",
    "    return F_i_x_ave,F_i_y_ave,F_i_z_ave  # these are vectors for each face\n",
    "\n",
    "\n",
    "\n",
    "\n",
    "# compute total BYORP averaging over nphi_Sun solar positions\n",
    "# for a single binary vector a_bin and body position described with mesh\n",
    "# arguments:\n",
    "#    f_areas a vector of face areas\n",
    "#    f_normals a vector of face normals\n",
    "#    incl is solar orbit inclination in radians\n",
    "#    nphi_Sun is the number of solar angles\n",
    "#    a_bin is binary direction unit vector\n",
    "# returns: torque components\n",
    "def tau_Bs(f_areas,f_normals,nphi_Sun,incl,a_bin):\n",
    "    # compute F_i for each face, but averaging over all positions of the Sun\n",
    "    F_i_x_ave, F_i_y_ave,F_i_z_ave = F_i_sun_ave(f_areas,f_normals,nphi_Sun,incl) \n",
    "    # these are vectors length number of faces\n",
    "    # forces from day lit faces\n",
    "    F_x = np.sum(F_i_x_ave)  #sum up the force\n",
    "    F_y = np.sum(F_i_y_ave)\n",
    "    F_z = np.sum(F_i_z_ave)\n",
    "    a_x = a_bin[0]  # binary direction\n",
    "    a_y = a_bin[1]\n",
    "    a_z = a_bin[2]\n",
    "    tau_x,tau_y,tau_z = cross_prod_xyz(a_x,a_y,a_z,F_x,F_y,F_z) # cross product\n",
    "    return tau_x,tau_y,tau_z  # these are numbers that give the torque components\n",
    "        "
   ]
  },
  {
   "cell_type": "code",
   "execution_count": 7,
   "metadata": {},
   "outputs": [],
   "source": [
    "# first rotate vertices in the mesh about the z axis by angle phi in radians\n",
    "# then tilt over the body by obliquity which is an angle in radians\n",
    "# arguments:\n",
    "#    vertices, triangular mesh surface vertices for body\n",
    "#    obliquity, angle in radius to tilt body z axis over\n",
    "#    phi, angle in radians to spin/rotate body about its z axis\n",
    "#    phi_prec,  angle in randias that tilt is done, it's a precession angle\n",
    "#      sets rotation axis for tilt, this axis is in the xy plane\n",
    "# returns: \n",
    "#     new_mesh: the tilted/rotated mesh\n",
    "#     zrot:  the new z-body spin axis\n",
    "def tilt_obliq(vertices,obliquity,phi,phi_prec):\n",
    "    #f = mesh.faces\n",
    "    v = np.copy(vertices)\n",
    "    #nv = len(v)\n",
    "    axist = np.array([np.cos(phi_prec),np.sin(phi_prec),0])  # precession angle is phi_prec\n",
    "    qt = quaternion.from_rotation_vector(rot=axist*obliquity)     # tilt    \n",
    "    vp=quaternion.rotate_vectors(qt, v) #####, axis=-1)  # rotate vectors, tilt over\n",
    "    zaxis = np.array([0,0,1])\n",
    "    zrot = quaternion.rotate_vectors(qt,zaxis) # body principal axis will become zrot\n",
    "    qs = quaternion.from_rotation_vector(rot=zrot*phi)    # spin rotation\n",
    "    vpp = quaternion.rotate_vectors(qs, vp)   # rotate vectors spin\n",
    "    return vpp,zrot\n",
    "    \n",
    "\n",
    "# tilt,spin a body and compute binary direction, assuming tidally locked\n",
    "# arguments:\n",
    "#   vertices of a mesh body (in principal axis coordinate system)\n",
    "#   nphi is the number of angles that could be done with indexing by iphi\n",
    "#   obliquity:  w.r.t to binary orbit angular momentum direction\n",
    "#   iphi:  number of rotations by dphi where dphi = 2pi/nphi\n",
    "#      this is principal axis rotation about z axis\n",
    "#   phi0: an offset for phi applied to body but not binary axis, similar to a libration angle, but not quite\n",
    "#      as is not projected onto orbital plane, is an offset in rotation angle\n",
    "#   phi_prec: a precession angle for tilting\n",
    "# returns: \n",
    "#   tvertices, a body of vertices rotated after iphi rotations by dphi and tilted by obliquity\n",
    "#   a_bin, binary direction assuming same rotation rate, tidal lock\n",
    "#   l_bin:  binary orbit angular momentum orbital axis\n",
    "#   zrot:  spin axis direction \n",
    "def tilt_and_bin(vertices,obliquity,nphi,iphi,phi0,phi_prec):\n",
    "    dphi = 2*np.pi/nphi\n",
    "    phi = iphi*dphi \n",
    "    tvertices,zrot = tilt_obliq(vertices,obliquity,phi + phi0,phi_prec)  # tilt and spin body\n",
    "    a_bin = np.array([np.cos(phi),np.sin(phi),0.0])   # direction to binary\n",
    "    l_bin = np.array([0,0,1.0])  # angular momentum axis of binary orbit\n",
    "    return tvertices,a_bin,l_bin,zrot"
   ]
  },
  {
   "cell_type": "code",
   "execution_count": 8,
   "metadata": {},
   "outputs": [],
   "source": [
    "\n",
    "# compute the BYORP torque, for a tidally locked binary\n",
    "# arguments:\n",
    "#   body:  triangular surface mesh (in principal axis coordinate system)\n",
    "#   nphi is the number of body angles we will use (spin)\n",
    "#   obliquity is body tilt w.r.t to binary orbit\n",
    "#   incl is solar orbit inclination \n",
    "#   nphi_Sun is the number of solar angles used\n",
    "#   phi0 an offset for body spin angle that is not applied to binary direction\n",
    "#   phi_prec  z-axis precession angle, relevant for obliquity \n",
    "# returns:\n",
    "#   3 torque components\n",
    "#   torque dot l_bin so can compute binary orbit drift rate\n",
    "def compute_BY(vertices,faces,obliquity,nphi,nphi_Sun,incl,phi0,phi_prec):\n",
    "    tau_BY_x = 0.0\n",
    "    tau_BY_y = 0.0\n",
    "    tau_BY_z = 0.0\n",
    "    for iphi in range(nphi):  # body positions\n",
    "        # rotate the body and tilt it over, and find binary direction\n",
    "        tvertices,a_bin,l_bin,zrot = tilt_and_bin(vertices,obliquity,nphi,iphi,phi0,phi_prec)\n",
    "        # rotated body is in tvertices\n",
    "        # now recompute face areas and surface normal directions\n",
    "        f_areas, f_normals = face_areas(tvertices,faces) # vector of facet areas and face normal vectors\n",
    "        # of the rotated body, faces don't change\n",
    "        # a_bin is binary direction\n",
    "        # compute torques \n",
    "        tau_x,tau_y,tau_z =tau_Bs(f_areas,f_normals,nphi_Sun,incl,a_bin)  # incl and a_bin here\n",
    "        tau_BY_x += tau_x\n",
    "        tau_BY_y += tau_y\n",
    "        tau_BY_z += tau_z\n",
    "        \n",
    "    tau_BY_x /= nphi  # average\n",
    "    tau_BY_y /= nphi\n",
    "    tau_BY_z /= nphi\n",
    "    \n",
    "    # recompute l_bin\n",
    "    tvertices,a_bin,l_bin,zrot = tilt_and_bin(vertices,obliquity,nphi,0,phi0,phi_prec)\n",
    "         \n",
    "    # compute component that affects binary orbit angular momentum\n",
    "    # this is tau dot l_bin\n",
    "    tau_l = tau_BY_x*l_bin[0] + tau_BY_y*l_bin[1] + tau_BY_z*l_bin[2] \n",
    "    return tau_BY_x,tau_BY_y,tau_BY_z, tau_l "
   ]
  },
  {
   "cell_type": "code",
   "execution_count": 9,
   "metadata": {},
   "outputs": [
    {
     "name": "stdout",
     "output_type": "stream",
     "text": [
      "4.1887902047863905\n"
     ]
    }
   ],
   "source": [
    "print(4*np.pi/3)"
   ]
  },
  {
   "cell_type": "code",
   "execution_count": 10,
   "metadata": {},
   "outputs": [],
   "source": [
    "\n",
    "# compute the BYORP torque on body as a function of obliquity\n",
    "# for a given inclination and precession angle, and rotation offset angle phi0\n",
    "# returns obliquity and torque arrays\n",
    "def obliq_BY_fig2(vertices,faces,incl,phi_prec,phi0):\n",
    "    #phi0=0\n",
    "    nphi_Sun=36  # number of solar positions\n",
    "    nphi = 36    # number of spin positions\n",
    "    nobliq = 60   # number of obliquities\n",
    "    dobliq = np.pi/nobliq\n",
    "    tau_l_arr = np.zeros(nobliq)  # to store torques\n",
    "    o_arr = np.zeros(nobliq)\n",
    "    for i in range(nobliq):\n",
    "        obliquity=i*dobliq\n",
    "        tau_BY_x,tau_BY_y,tau_BY_z, tau_l =compute_BY(vertices,faces,obliquity,nphi,nphi_Sun,incl,phi0,phi_prec)\n",
    "        o_arr[i] = obliquity*180/np.pi\n",
    "        tau_l_arr[i] = tau_l\n",
    "    return o_arr,tau_l_arr"
   ]
  },
  {
   "cell_type": "code",
   "execution_count": null,
   "metadata": {
    "collapsed": true,
    "jupyter": {
     "outputs_hidden": true
    }
   },
   "outputs": [],
   "source": []
  },
  {
   "cell_type": "code",
   "execution_count": 11,
   "metadata": {},
   "outputs": [
    {
     "name": "stdout",
     "output_type": "stream",
     "text": [
      "4.047005367354512\n",
      "number of faces  320\n"
     ]
    }
   ],
   "source": [
    "# create a sphere of radius 1\n",
    "center = np.array([0,0,0])\n",
    "sphere = pymesh.generate_icosphere(1., center, refinement_order=2)\n",
    "sphere.add_attribute(\"face_area\")\n",
    "sphere.add_attribute(\"face_normal\")\n",
    "sphere.add_attribute(\"face_centroid\")\n",
    "print(volume_mesh(sphere))\n",
    "nf_mesh(sphere)\n",
    "\n",
    "# create a perturbed ellipsoid using the above sphere\n",
    "devrand = 0.05  # perturbation size  # fiducial model\n",
    "aratio1 = 0.5   # axis ratios c/a\n",
    "aratio2 = 0.7   # b/a\n",
    "random.seed(2)  # fix the sequence\n",
    "psphere1 = sphere_perturb(sphere,devrand,1,1)  #perturbed sphere \n",
    "body1 = body_stretch(psphere1,aratio1,aratio2)  # stretch \n",
    "#print(volume_mesh(body1))  #check volume\n"
   ]
  },
  {
   "cell_type": "code",
   "execution_count": 12,
   "metadata": {},
   "outputs": [],
   "source": [
    "devrand = 0.025  # perturbation size larger\n",
    "random.seed(2)  # same perturbations\n",
    "psphere2 = sphere_perturb(sphere,devrand,1,1)  #less perturbed sphere \n",
    "aratio1 = 0.5   # same axis ratios\n",
    "aratio2 = 0.7\n",
    "body2 = body_stretch(psphere2,aratio1,aratio2)\n",
    "\n",
    "devrand = 0.05  # perturbation size same as fiducial\n",
    "random.seed(21)  # different perturbations\n",
    "psphere3 = sphere_perturb(sphere,devrand,1,1)  #fid perturbed sphere \n",
    "aratio1 = 0.5   # same axis ratios\n",
    "aratio2 = 0.7\n",
    "body3 = body_stretch(psphere3,aratio1,aratio2)\n",
    "\n",
    "\n",
    "devrand = 0.05  # perturbation size same as fiducial\n",
    "random.seed(25)  # different perturbations\n",
    "psphere4 = sphere_perturb(sphere,devrand,1,1)  #fid perturbed sphere \n",
    "aratio1 = 0.5   # same axis ratios\n",
    "aratio2 = 0.7\n",
    "body4 = body_stretch(psphere4,aratio1,aratio2)\n",
    "\n",
    "\n",
    "devrand = 0.05  # perturbation size same as fiducial\n",
    "random.seed(29)  # different perturbations\n",
    "psphere5 = sphere_perturb(sphere,devrand,1,1)  #fid perturbed sphere \n",
    "aratio1 = 0.5   # same axis ratios\n",
    "aratio2 = 0.7\n",
    "body5 = body_stretch(psphere5,aratio1,aratio2)\n",
    "\n",
    "devrand = 0.05  # perturbation size same as fiducial\n",
    "random.seed(31)  # different perturbations\n",
    "psphere6 = sphere_perturb(sphere,devrand,1,1)  #fid perturbed sphere \n",
    "aratio1 = 0.5   # same axis ratios\n",
    "aratio2 = 0.7\n",
    "body6 = body_stretch(psphere6,aratio1,aratio2)\n",
    "\n"
   ]
  },
  {
   "cell_type": "code",
   "execution_count": 13,
   "metadata": {},
   "outputs": [
    {
     "data": {
      "application/vnd.jupyter.widget-view+json": {
       "model_id": "0528afd953c54daa9d2fc887d6fc37d6",
       "version_major": 2,
       "version_minor": 0
      },
      "text/plain": [
       "HBox(children=(Output(), Output()))"
      ]
     },
     "metadata": {},
     "output_type": "display_data"
    },
    {
     "data": {
      "application/vnd.jupyter.widget-view+json": {
       "model_id": "258d9dc1dc0f4f058639818e8baa4a22",
       "version_major": 2,
       "version_minor": 0
      },
      "text/plain": [
       "HBox(children=(Output(), Output()))"
      ]
     },
     "metadata": {},
     "output_type": "display_data"
    },
    {
     "data": {
      "application/vnd.jupyter.widget-view+json": {
       "model_id": "b021cd39447444f782e28db29d4b8d6e",
       "version_major": 2,
       "version_minor": 0
      },
      "text/plain": [
       "HBox(children=(Output(), Output()))"
      ]
     },
     "metadata": {},
     "output_type": "display_data"
    },
    {
     "data": {
      "application/vnd.jupyter.widget-view+json": {
       "model_id": "c9252db78e0f454b87229b54c64dda94",
       "version_major": 2,
       "version_minor": 0
      },
      "text/plain": [
       "HBox(children=(Output(), Output()))"
      ]
     },
     "metadata": {},
     "output_type": "display_data"
    },
    {
     "data": {
      "text/plain": [
       "<meshplot.plot.Subplot at 0x1250a1b80>"
      ]
     },
     "execution_count": 13,
     "metadata": {},
     "output_type": "execute_result"
    }
   ],
   "source": [
    "S_i, f_normals = face_areas(body1.vertices,body1.faces)\n",
    "#d = meshplot.subplot(body1.vertices, body1.faces, c=v[:, 1], s=[2, 2, 2])\n",
    "d=meshplot.subplot(body1.vertices, body1.faces, c=S_i, s=[2, 2, 2])\n",
    "meshplot.subplot(body1.vertices, body1.faces, c=f_normals[:,2], s=[2, 2, 2])"
   ]
  },
  {
   "cell_type": "code",
   "execution_count": 14,
   "metadata": {},
   "outputs": [
    {
     "data": {
      "application/vnd.jupyter.widget-view+json": {
       "model_id": "6bff143a379c49b2917d17b88b4653d5",
       "version_major": 2,
       "version_minor": 0
      },
      "text/plain": [
       "Renderer(camera=PerspectiveCamera(children=(DirectionalLight(color='white', intensity=0.6, position=(-0.026061…"
      ]
     },
     "metadata": {},
     "output_type": "display_data"
    }
   ],
   "source": [
    "xmax = 1.5\n",
    "p = plt_mesh_square(body1.vertices,body1.faces,xmax)\n",
    "# p.save('junk.html')  # works but no way to snap or get orientation "
   ]
  },
  {
   "cell_type": "code",
   "execution_count": 15,
   "metadata": {},
   "outputs": [
    {
     "data": {
      "application/vnd.jupyter.widget-view+json": {
       "model_id": "f89de54f33c641c4a5398b6948867c41",
       "version_major": 2,
       "version_minor": 0
      },
      "text/plain": [
       "Renderer(camera=PerspectiveCamera(children=(DirectionalLight(color='white', intensity=0.6, position=(-0.026061…"
      ]
     },
     "metadata": {},
     "output_type": "display_data"
    }
   ],
   "source": [
    "xrot = np.array([1,0,0])\n",
    "vrot = rotate_vertices(body1.vertices,xrot,np.pi/2)\n",
    "p = plt_mesh_square(vrot,body1.faces,xmax)"
   ]
  },
  {
   "cell_type": "code",
   "execution_count": 16,
   "metadata": {
    "tags": []
   },
   "outputs": [
    {
     "data": {
      "application/vnd.jupyter.widget-view+json": {
       "model_id": "daa034f3055d47c28a82a7fd00384157",
       "version_major": 2,
       "version_minor": 0
      },
      "text/plain": [
       "Renderer(camera=PerspectiveCamera(children=(DirectionalLight(color='white', intensity=0.6, position=(-0.013030…"
      ]
     },
     "metadata": {},
     "output_type": "display_data"
    }
   ],
   "source": [
    "xmax = 1.5\n",
    "p = plt_mesh_square(body2.vertices,body1.faces,xmax)\n",
    "# p.save('junk.html')  # works but no way to snap or get orientation "
   ]
  },
  {
   "cell_type": "code",
   "execution_count": 17,
   "metadata": {},
   "outputs": [
    {
     "data": {
      "application/vnd.jupyter.widget-view+json": {
       "model_id": "cb20cc86e7cd48f9a38cc5eb5ed59a18",
       "version_major": 2,
       "version_minor": 0
      },
      "text/plain": [
       "Renderer(camera=PerspectiveCamera(children=(DirectionalLight(color='white', intensity=0.6, position=(-0.013030…"
      ]
     },
     "metadata": {},
     "output_type": "display_data"
    }
   ],
   "source": [
    "xrot = np.array([1,0,0])\n",
    "vrot = rotate_vertices(body2.vertices,xrot,np.pi/2)\n",
    "p = plt_mesh_square(vrot,body2.faces,xmax)"
   ]
  },
  {
   "cell_type": "code",
   "execution_count": 18,
   "metadata": {},
   "outputs": [],
   "source": [
    "\n",
    "aratio1 = 0.5   # new axis ratios\n",
    "aratio2 = 0.8\n",
    "body1a = body_stretch(psphere1,aratio1,aratio2)\n",
    "\n",
    "aratio1 = 0.6   # new axis ratios\n",
    "aratio2 = 0.7\n",
    "body1b = body_stretch(psphere1,aratio1,aratio2)\n",
    "\n",
    "\n",
    "aratio1 = 0.4   # new axis ratios\n",
    "aratio2 = 0.9\n",
    "body1c = body_stretch(psphere1,aratio1,aratio2)\n",
    "\n"
   ]
  },
  {
   "cell_type": "code",
   "execution_count": 19,
   "metadata": {},
   "outputs": [
    {
     "name": "stdout",
     "output_type": "stream",
     "text": [
      "0.9811156432317085\n",
      "1.003830499198687\n",
      "0.9883108907346502\n",
      "0.9992616460925486\n",
      "1.0664364654025773\n",
      "1.050536574113009\n",
      "1.0643474288238175\n",
      "1.072882983618328\n",
      "1.0380017699710702\n"
     ]
    }
   ],
   "source": [
    "# check total surface area\n",
    "print(surface_area(sphere))\n",
    "print(surface_area(psphere1))\n",
    "print(surface_area(psphere2))\n",
    "print(surface_area(psphere3))\n",
    "print(surface_area(body1))\n",
    "print(surface_area(body2))\n",
    "print(surface_area(body3))\n",
    "print(surface_area(body1a))\n",
    "print(surface_area(body1b))\n",
    "\n",
    "# subtract 1 and you have approximately the d_s used by Steinberg+10\n",
    "# many of their d_s are  lower (see their figure 3)"
   ]
  },
  {
   "cell_type": "code",
   "execution_count": null,
   "metadata": {
    "collapsed": true,
    "jupyter": {
     "outputs_hidden": true
    }
   },
   "outputs": [],
   "source": []
  },
  {
   "cell_type": "code",
   "execution_count": null,
   "metadata": {
    "tags": []
   },
   "outputs": [],
   "source": []
  },
  {
   "cell_type": "code",
   "execution_count": 21,
   "metadata": {},
   "outputs": [],
   "source": [
    "# compute BYORPs as a function of obliquity\n",
    "incl = 0; phi_prec=0; phi0=0\n",
    "o_arr1 ,tau_l_arr1 = obliq_BY_fig2(body1.vertices,body1.faces,incl,phi_prec,phi0)\n",
    "o_arr_s,tau_l_arr_s = obliq_BY_fig2(sphere.vertices,sphere.faces,incl,phi_prec,phi0)\n",
    "o_arr2,tau_l_arr2 = obliq_BY_fig2(body2.vertices,body2.faces,incl,phi_prec,phi0)\n",
    "o_arr3,tau_l_arr3 = obliq_BY_fig2(body3.vertices,body3.faces,incl,phi_prec,phi0)\n",
    "o_arr4,tau_l_arr4 = obliq_BY_fig2(body4.vertices,body4.faces,incl,phi_prec,phi0)\n",
    "o_arr5,tau_l_arr5 = obliq_BY_fig2(body5.vertices,body5.faces,incl,phi_prec,phi0)\n",
    "o_arr6,tau_l_arr6 = obliq_BY_fig2(body6.vertices,body6.faces,incl,phi_prec,phi0)"
   ]
  },
  {
   "cell_type": "raw",
   "metadata": {},
   "source": []
  },
  {
   "cell_type": "code",
   "execution_count": null,
   "metadata": {},
   "outputs": [],
   "source": []
  },
  {
   "cell_type": "code",
   "execution_count": null,
   "metadata": {},
   "outputs": [],
   "source": [
    "v_cmshift = np.copy(body6.vertices)\n",
    "v_cmshift[:,2] -= 0.05 # shift the center of mass, no affect! \n",
    "#o_arr7,tau_l_arr7 = obliq_BY_fig2(v_cmshift,body6.faces,incl,phi_prec,phi0)"
   ]
  },
  {
   "cell_type": "code",
   "execution_count": null,
   "metadata": {
    "tags": []
   },
   "outputs": [],
   "source": [
    "v_cmshift = np.copy(body6.vertices)\n",
    "v_cmshift[:,2] -= 0.05 # shift the center of mass, no affect! \n",
    "#o_arr7,tau_l_arr7 = obliq_BY_fig2(v_cmshift,body6.faces,incl,phi_prec,phi0)\n",
    "fig,ax = plt.subplots(1,1,figsize=(6,3),dpi=300)\n",
    "plt.subplots_adjust(bottom=0.19,top=0.98,left=0.2, right=0.98) \n",
    "ax.plot(o_arr_s,tau_l_arr_s,'go:',alpha=0.5,label='icosphere')\n",
    "ax.plot(o_arr1,tau_l_arr1,'bd:',alpha=0.5,label=r'$\\Delta=0.05$')\n",
    "ax.plot(o_arr3,-tau_l_arr3,'mP:',alpha=0.5,label=r'$\\Delta=0.05$')\n",
    "ax.plot(o_arr2,tau_l_arr2,'rs:',alpha=0.5,label=r'$\\Delta=0.025$')\n",
    "ax.plot(o_arr4,tau_l_arr4,'d:',alpha=0.5,label=r'$\\Delta=0.05$',color='gray')\n",
    "ax.plot(o_arr5,tau_l_arr5,'H:',alpha=0.5,label=r'$\\Delta=0.05$',color='brown')\n",
    "ax.plot(o_arr6,-tau_l_arr6,'h:',alpha=0.6,label=r'$\\Delta=0.05$',color='orange')\n",
    "#ax.plot(o_arr7,-tau_l_arr7,'o:',alpha=0.6,label=r'$\\Delta=0.05$',color='black')\n",
    "ax.set_xlabel('obliquity (deg)',fontsize=16)\n",
    "#ax.set_ylabel(r'${ \\tau}_{BY} \\cdot \\hat{l}$',fontsize=16)\n",
    "ax.set_ylabel(r'$g_{BY}$',fontsize=16)\n",
    "ax.legend(borderpad=0.1,labelspacing=0.1,handletextpad=0.1,loc='lower right',ncol=2)\n",
    "ax.text(130,0.010,'c/a=0.5 b/a=0.7')\n",
    "plt.savefig('tau_BY_obl.png')"
   ]
  },
  {
   "cell_type": "markdown",
   "metadata": {},
   "source": [
    "### This is going to zero at high obliquity because spin is counter to rotation of binary"
   ]
  },
  {
   "cell_type": "code",
   "execution_count": null,
   "metadata": {},
   "outputs": [],
   "source": [
    "o_arr1a,tau_l_arr1a = obliq_BY_fig2(body1a.vertices,body1a.faces,incl,phi_prec,phi0)\n",
    "o_arr1b,tau_l_arr1b = obliq_BY_fig2(body1b.vertices,body1b.faces,incl,phi_prec,phi0)\n",
    "o_arr1c,tau_l_arr1c = obliq_BY_fig2(body1c.vertices,body1c.faces,incl,phi_prec,phi0)"
   ]
  },
  {
   "cell_type": "code",
   "execution_count": null,
   "metadata": {},
   "outputs": [],
   "source": [
    "fig,ax = plt.subplots(1,1,figsize=(6,3),dpi=300)\n",
    "plt.subplots_adjust(bottom=0.19,top=0.98,left=0.2,right=0.98) \n",
    "\n",
    "ax.plot(o_arr_s,tau_l_arr_s,'go:',alpha=0.5,label='icosphere')\n",
    "ax.plot(o_arr1 ,tau_l_arr1, 'rs:',alpha=0.5,label=r'$c/a=0.5, b/a=0.7$')\n",
    "ax.plot(o_arr1a,tau_l_arr1a,'bd:',alpha=0.5,label=r'$c/a=0.5, b/a=0.8$')\n",
    "ax.plot(o_arr1b,tau_l_arr1b,'cv:',alpha=0.5,label=r'$c/a=0.6, b/a=0.7$')\n",
    "ax.plot(o_arr1c,tau_l_arr1c,'H:',alpha=0.5,label=r'$c/a=0.4, b/a=0.9$', color='brown')\n",
    "\n",
    "ax.set_xlabel('obliquity (deg)',fontsize=16)\n",
    "#ax.set_ylabel(r'${ \\tau}_{BY} \\cdot \\hat{l}$',fontsize=16)\n",
    "ax.set_ylabel(r'$g_{BY}$',fontsize=16)\n",
    "ax.legend(borderpad=0.1,labelspacing=0.1,handletextpad=0.1)\n",
    "ax.text(150,-0.0018, r'$\\Delta=0.05$')\n",
    "plt.savefig('tau_BY_obl2.png')"
   ]
  },
  {
   "cell_type": "code",
   "execution_count": null,
   "metadata": {},
   "outputs": [],
   "source": [
    "print(o_arr1c[0:10])\n",
    "print(tau_l_arr1c[0:10])"
   ]
  },
  {
   "cell_type": "code",
   "execution_count": null,
   "metadata": {},
   "outputs": [],
   "source": [
    "#https://www.naic.edu/~smarshal/1999kw4.html\n",
    "#Squannit is secondary of Moshup which was 1999KW4\n",
    "\n",
    "squannit = pymesh.load_mesh(\"kw4b.obj\")\n",
    "nf_mesh(squannit)\n",
    "# we need to normalize it so that its volume is 4/3 pi\n",
    "# to compute the volume of a tetrahdon that is made from a face + a vertex at the origin \n",
    "# we need to compute the determanent of a 3x3 matrix that consists of the 3 vertices in the face.\n",
    "# we then sum over all faces in the mesh to get the total volume\n",
    "# alternatively we use the generalized voxel thing in pymesh which is 4 vertices.\n",
    "# to do this we add a vertex at the center and then we need to make the same number\n",
    "# of voxels as faces using the vertex at the origin.\n",
    "# and then we sum over the voxel_volume attributes of all the voxels."
   ]
  },
  {
   "cell_type": "code",
   "execution_count": null,
   "metadata": {},
   "outputs": [],
   "source": [
    "xmax = 1.5\n",
    "p = plt_mesh_square(squannit.vertices,squannit.faces,xmax)"
   ]
  },
  {
   "cell_type": "code",
   "execution_count": null,
   "metadata": {},
   "outputs": [],
   "source": [
    "vol = volume_mesh(squannit)\n",
    "print(vol)\n",
    "R_squannit = pow(vol*3/(4.0*np.pi),0.3333333)\n",
    "print(R_squannit)  # I don't know what units this is in. maybe km\n",
    "# the object is supposed to have Beta: 0.571 x 0. 463 x 0.349 km (6% uncertainty)"
   ]
  },
  {
   "cell_type": "code",
   "execution_count": null,
   "metadata": {},
   "outputs": [],
   "source": [
    "# rescale so it has vol equiv sphere radius of 1\n",
    "new_squannit = cor_volume(squannit)\n",
    "p = plt_mesh_square(new_squannit.vertices,new_squannit.faces,xmax)"
   ]
  },
  {
   "cell_type": "code",
   "execution_count": null,
   "metadata": {},
   "outputs": [],
   "source": [
    "xrot = np.array([1,0,0])\n",
    "vrot = rotate_vertices(new_squannit.vertices,xrot,np.pi/2)\n",
    "p = plt_mesh_square(vrot,new_squannit.faces,xmax)"
   ]
  },
  {
   "cell_type": "code",
   "execution_count": null,
   "metadata": {},
   "outputs": [],
   "source": [
    "# reduce the number of faces to something reasonable\n",
    "short_squannit1, info = pymesh.collapse_short_edges(new_squannit, 0.219)  # if bigger then  fewer faces\n",
    "nf_mesh(short_squannit1)\n",
    "meshplot.plot(short_squannit1.vertices, short_squannit1.faces)\n",
    "short_squannit2, info = pymesh.collapse_short_edges(new_squannit, 0.17)  # if bigger then  fewer faces\n",
    "nf_mesh(short_squannit2)\n",
    "meshplot.plot(short_squannit2.vertices, short_squannit2.faces)\n",
    "\n",
    "xrot = np.array([1,0,0])\n",
    "vrot = rotate_vertices(short_squannit2.vertices,xrot,np.pi/2)  # perturbed version of squannit"
   ]
  },
  {
   "cell_type": "code",
   "execution_count": null,
   "metadata": {},
   "outputs": [],
   "source": [
    "p = plt_mesh_square(short_squannit2.vertices,short_squannit2.faces,xmax)"
   ]
  },
  {
   "cell_type": "code",
   "execution_count": null,
   "metadata": {},
   "outputs": [],
   "source": [
    "\n",
    "p = plt_mesh_square(vrot,short_squannit2.faces,xmax)"
   ]
  },
  {
   "cell_type": "code",
   "execution_count": null,
   "metadata": {},
   "outputs": [],
   "source": [
    "devrand=0.05\n",
    "short_squannit2_p  = sphere_perturb(short_squannit2,devrand,1,1)\n",
    "p = plt_mesh_square(short_squannit2_p.vertices,short_squannit2_p.faces,xmax)"
   ]
  },
  {
   "cell_type": "code",
   "execution_count": null,
   "metadata": {},
   "outputs": [],
   "source": [
    "xrot = np.array([1,0,0])\n",
    "vrot = rotate_vertices(short_squannit2_p.vertices,xrot,np.pi/2)\n",
    "p = plt_mesh_square(vrot,short_squannit2_p.faces,xmax)"
   ]
  },
  {
   "cell_type": "code",
   "execution_count": null,
   "metadata": {},
   "outputs": [],
   "source": [
    "# compute BYORPs as a function of obliquity\n",
    "incl = 0; phi_prec=0; phi0=0\n",
    "o_arr1,stau_l_arr1 = obliq_BY_fig2(short_squannit1.vertices,short_squannit1.faces,incl,phi_prec,phi0)"
   ]
  },
  {
   "cell_type": "code",
   "execution_count": null,
   "metadata": {},
   "outputs": [],
   "source": [
    "# compute BYORPs as a function of obliquity\n",
    "incl = 0; phi_prec=0; phi0=0\n",
    "o_arr2,stau_l_arr2 = obliq_BY_fig2(short_squannit2.vertices,short_squannit2.faces,incl,phi_prec,phi0)"
   ]
  },
  {
   "cell_type": "code",
   "execution_count": null,
   "metadata": {},
   "outputs": [],
   "source": [
    "# compute BYORPs as a function of obliquity, perturbed\n",
    "incl = 0; phi_prec=0; phi0=0\n",
    "o_arr2_p,stau_l_arr2_p = obliq_BY_fig2(short_squannit2_p.vertices,short_squannit2_p.faces,incl,phi_prec,phi0)"
   ]
  },
  {
   "cell_type": "code",
   "execution_count": null,
   "metadata": {},
   "outputs": [],
   "source": [
    "# compute BYORPs as a function of obliquity, vary phi_prec\n",
    "incl = 0; phi_prec=10*np.pi/180; phi0=0\n",
    "o_arr3a,stau_l_arr3a = obliq_BY_fig2(short_squannit2.vertices,short_squannit2.faces,incl,phi_prec,phi0)\n",
    "incl = 0; phi_prec=-10*np.pi/180; phi0=0\n",
    "o_arr3b,stau_l_arr3b = obliq_BY_fig2(short_squannit2.vertices,short_squannit2.faces,incl,phi_prec,phi0)"
   ]
  },
  {
   "cell_type": "code",
   "execution_count": null,
   "metadata": {},
   "outputs": [],
   "source": [
    "# compute BYORPs as a function of obliquity, vary incl\n",
    "incl = 20*np.pi/180; phi_prec=0; phi0=0\n",
    "o_arr4a,stau_l_arr4a = obliq_BY_fig2(short_squannit2.vertices,short_squannit2.faces,incl,phi_prec,phi0)\n",
    "incl = 160*np.pi/180; phi_prec=0; phi0=0\n",
    "o_arr4b,stau_l_arr4b = obliq_BY_fig2(short_squannit2.vertices,short_squannit2.faces,incl,phi_prec,phi0)"
   ]
  },
  {
   "cell_type": "code",
   "execution_count": null,
   "metadata": {},
   "outputs": [],
   "source": [
    "# compute BYORPs as a function of obliquity, vary lib\n",
    "incl = 0; phi_prec=0; phi0=20*np.pi/180\n",
    "o_arr5a,stau_l_arr5a = obliq_BY_fig2(short_squannit2.vertices,short_squannit2.faces,incl,phi_prec,phi0)\n",
    "incl = 0; phi_prec=0; phi0=-20*np.pi/180\n",
    "o_arr5b,stau_l_arr5b = obliq_BY_fig2(short_squannit2.vertices,short_squannit2.faces,incl,phi_prec,phi0)"
   ]
  },
  {
   "cell_type": "code",
   "execution_count": null,
   "metadata": {},
   "outputs": [],
   "source": [
    "fig,ax = plt.subplots(1,1,figsize=(6,3),dpi=150)\n",
    "plt.subplots_adjust(bottom=0.19, top = 0.98,left=0.2,right=0.98)\n",
    "#ax.plot(o_arr2,stau_l_arr2,'go-',label='sphere')\n",
    "ax.plot(o_arr1,-stau_l_arr1,'rD-',label=r'S302',alpha=0.5)\n",
    "ax.plot(o_arr2,-stau_l_arr2,'bv-',label=r'S534',alpha=0.5)\n",
    "ax.plot(o_arr2_p,-stau_l_arr2_p,'bP-',label=r'S534 $\\Delta=0.05$',alpha=0.5)\n",
    "#ax.plot(o_arr3a,stau_l_arr3a,'gP-',label=r'S534, $\\phi_p=10^\\circ$',alpha=0.5)\n",
    "#ax.plot(o_arr3b,stau_l_arr3b,'gP-',label=r'S534, $\\phi_p=-10^\\circ$',alpha=0.5)\n",
    "#ax.plot(o_arr4a,-stau_l_arr4a,'cH-',label=r'S534, $i_h=20^\\circ$',alpha=0.5)\n",
    "ax.plot(o_arr4b,-stau_l_arr4b,'cH-',label=r'S534, $i_h=160^\\circ$',alpha=0.5)\n",
    "ax.plot(o_arr5a,-stau_l_arr5a,'ms-',label=r'S534, $\\phi_l=20^\\circ$',alpha=0.5)\n",
    "ax.plot(o_arr5b,-stau_l_arr5b,'ms-',label=r'S534, $\\phi_l=-20^\\circ$',alpha=0.5)\n",
    "ax.set_xlabel('obliquity (deg)',fontsize=16)\n",
    "#ax.set_ylabel(r'${ \\tau}_{BY} \\cdot \\hat{l}$',fontsize=16)\n",
    "ax.set_ylabel(r'$g_{BY}$',fontsize=16)\n",
    "\n",
    "ax.legend(loc='upper right',borderpad=0.1,labelspacing=0.1,ncol=2)\n",
    "plt.savefig('squannit.png')"
   ]
  },
  {
   "cell_type": "code",
   "execution_count": null,
   "metadata": {
    "tags": []
   },
   "outputs": [],
   "source": [
    "#Psudocode for what AJ has to do \n",
    "\"\"\"\n",
    "#TODO: ### **NPA rotation implementation into BYORP calculation**\n",
    "- [ ] Random rotation calculation\n",
    "    - normal distribution\n",
    "    - run primary loop for 1 -> ~90degrees\n",
    "- [ ] Tilt and bin\n",
    "    - Tilt the secondary to face the primary \n",
    "    - Tilt around random number for NPA rotation\n",
    "- [ ] Calcualte BYORP effect on various meshes\n",
    "    - Squannit\n",
    "    - 3 other mesh (look in notebook)\n",
    "    \n",
    "#TDOD: ### Put in exponential timescales into paper\n",
    "\"\"\"\n",
    "\n",
    "import random as r\n",
    "import numpy as np\n",
    "\n",
    "fun = np.array([])\n",
    "\n",
    "def getRandDeg(maxAng):\n",
    "#     print(\"Max \", maxAng,\". Min \", -maxAng,\".\")\n",
    "    return maxAng*r.uniform(-1,1)\n",
    "\n",
    "\n",
    "\n",
    "# first rotate vertices in the mesh about the z axis by angle phi in radians\n",
    "# then tilt over the body by obliquity which is an angle in radians\n",
    "# arguments:\n",
    "#    vertices, triangular mesh surface vertices for body\n",
    "#    obliquity, angle in radius to tilt body z axis over\n",
    "#    phi, angle in radians to spin/rotate body about its z axis\n",
    "#    phi_prec,  angle in randias that tilt is done, it's a precession angle\n",
    "#      sets rotation axis for tilt, this axis is in the xy plane\n",
    "# returns: \n",
    "#     new_mesh: the tilted/rotated mesh\n",
    "#     zrot:  the new z-body spin axis\n",
    "def tilt_NPA(vertices,NPAMax,phi,phi_prec):\n",
    "    v = np.copy(vertices)\n",
    "    axist = np.array([np.cos(phi_prec),np.sin(phi_prec),0])  # precession angle is phi_prec\n",
    "    \n",
    "    zaxis = np.array([0,0,1])\n",
    "    qspin = quaternion.from_rotation_vector(rot=zaxis*phi)    # spin rotation\n",
    "    vS = quaternion.rotate_vectors(qspin,v)\n",
    "    xrot = quaternion.rotate_vectors(qspin,np.array([1,0,0]))\n",
    "    \n",
    "    currRot = getRandDeg(NPAMax)\n",
    "#     print(\"i\")\n",
    "    global fun \n",
    "    fun = np.append(fun,currRot)\n",
    "    qrot = quaternion.from_rotation_vector(rot=xrot*currRot)\n",
    "    vSRot = quaternion.rotate_vectors(qrot,vS)\n",
    "    \n",
    "    \n",
    "#     qt = quaternion.from_rotation_vector(rot=axist*obliquity)     # tilt    \n",
    "#     vp=quaternion.rotate_vectors(qt, v) #####, axis=-1)  # rotate vectors, tilt over\n",
    "    \n",
    "    \n",
    "#     zrot = quaternion.rotate_vectors(qt,zaxis) # body principal axis will become zrot\n",
    "#     zaxis = np.array([0,0,1])\n",
    "#     qs = quaternion.from_rotation_vector(rot=zrot*phi)    # spin rotation\n",
    "#     vpp = quaternion.rotate_vectors(qs, vp)   # rotate vectors spin\n",
    "    return vSRot,zaxis\n",
    "    \n",
    "\n",
    "# tilt,spin a body and compute binary direction, assuming tidally locked\n",
    "# arguments:\n",
    "#   vertices of a mesh body (in principal axis coordinate system)\n",
    "#   nphi is the number of angles that could be done with indexing by iphi\n",
    "#   obliquity:  w.r.t to binary orbit angular momentum direction\n",
    "#   iphi:  number of rotations by dphi where dphi = 2pi/nphi\n",
    "#      this is principal axis rotation about z axis\n",
    "#   phi0: an offset for phi applied to body but not binary axis, similar to a libration angle, but not quite\n",
    "#      as is not projected onto orbital plane, is an offset in rotation angle\n",
    "#   phi_prec: a precession angle for tilting\n",
    "# returns: \n",
    "#   tvertices, a body of vertices rotated after iphi rotations by dphi and tilted by obliquity\n",
    "#   a_bin, binary direction assuming same rotation rate, tidal lock\n",
    "#   l_bin:  binary orbit angular momentum orbital axis\n",
    "#   zrot:  spin axis direction \n",
    "def tilt_and_bin(vertices,NPAMax,nphi,iphi,phi0,phi_prec):\n",
    "    dphi = 2*np.pi/nphi\n",
    "    phi = iphi*dphi \n",
    "    tvertices,zrot = tilt_NPA(vertices,NPAMax,phi + phi0,phi_prec)  # tilt and spin body\n",
    "    a_bin = np.array([np.cos(phi),np.sin(phi),0.0])   # direction to binary\n",
    "    l_bin = np.array([0,0,1.0])  # angular momentum axis of binary orbit\n",
    "    return tvertices,a_bin,l_bin,zrot\n",
    "\n",
    "\n",
    "# compute the BYORP torque on body as a function of obliquity\n",
    "# for a given inclination and precession angle, and rotation offset angle phi0\n",
    "# returns obliquity and torque arrays\n",
    "def NPA_BY_fig2(vertices,faces,incl,phi_prec,phi0):\n",
    "    global fun\n",
    "    fun = np.array([])\n",
    "    #phi0=0\n",
    "    nphi_Sun= 128  # number of solar positions\n",
    "    nphi = 128    # number of spin positions\n",
    "    nNPA = 180   # number of obliquities\n",
    "    dNPA = np.pi/nNPA\n",
    "    tau_l_arr = np.zeros(nNPA)  # to store torques\n",
    "    r_arr = np.zeros(nNPA)\n",
    "    for i in range(nNPA):\n",
    "        NPAMax=i*dNPA\n",
    "#         print(\"Funny NPAMax,\", NPAMax*180/np.pi)\n",
    "        tau_BY_x,tau_BY_y,tau_BY_z, tau_l =compute_BY(vertices,faces,NPAMax,nphi,nphi_Sun,incl,phi0,phi_prec)\n",
    "        r_arr[i] = NPAMax*180/np.pi\n",
    "        tau_l_arr[i] = tau_l\n",
    "    fun = fun.reshape(nNPA,nphi+1)\n",
    "#     print(fun)\n",
    "    return r_arr,tau_l_arr\n"
   ]
  },
  {
   "cell_type": "code",
   "execution_count": null,
   "metadata": {
    "tags": []
   },
   "outputs": [],
   "source": [
    "# compute BYORPs as a function of obliquity\n",
    "incl = 0; phi_prec=0; phi0=0\n",
    "o_arr1 ,tau_l_arr1 = NPA_BY_fig2(body1.vertices,body1.faces,incl,phi_prec,phi0)\n",
    "print(\"finish1\")\n",
    "o_arr_s,tau_l_arr_s = NPA_BY_fig2(sphere.vertices,sphere.faces,incl,phi_prec,phi0)\n",
    "print(\"finishs\")\n",
    "o_arr2,tau_l_arr2 = NPA_BY_fig2(body2.vertices,body2.faces,incl,phi_prec,phi0)\n",
    "print(\"finish2\")\n",
    "o_arr3,tau_l_arr3 = NPA_BY_fig2(body3.vertices,body3.faces,incl,phi_prec,phi0)\n",
    "print(\"finish3\")\n",
    "o_arr4,tau_l_arr4 = NPA_BY_fig2(body4.vertices,body4.faces,incl,phi_prec,phi0)\n",
    "print(\"finish4\")\n",
    "o_arr5,tau_l_arr5 = NPA_BY_fig2(body5.vertices,body5.faces,incl,phi_prec,phi0)\n",
    "print(\"finish5\")\n",
    "o_arr6,tau_l_arr6 = NPA_BY_fig2(body6.vertices,body6.faces,incl,phi_prec,phi0)\n",
    "print(\"finish6\")\n",
    "v_cmshift = np.copy(body6.vertices)\n",
    "v_cmshift[:,2] -= 0.05 # shift the center of mass, no affect! \n",
    "#o_arr7,tau_l_arr7 = obliq_BY_fig2(v_cmshift,body6.faces,incl,phi_prec,phi0)"
   ]
  },
  {
   "cell_type": "code",
   "execution_count": null,
   "metadata": {},
   "outputs": [],
   "source": [
    "fig,ax = plt.subplots(1,1,figsize=(12,6),dpi=300)\n",
    "plt.subplots_adjust(bottom=0.19,top=0.98,left=0.2, right=0.98) \n",
    "ax.plot(o_arr_s,tau_l_arr_s,'go:',alpha=0.5,label='icosphere')\n",
    "ax.plot(o_arr1,tau_l_arr1,'bd:',alpha=0.5,label=r'$\\Delta=0.05$')\n",
    "ax.plot(o_arr3,-tau_l_arr3,'mP:',alpha=0.5,label=r'$\\Delta=0.05$')\n",
    "ax.plot(o_arr2,tau_l_arr2,'rs:',alpha=0.5,label=r'$\\Delta=0.025$')\n",
    "ax.plot(o_arr4,tau_l_arr4,'d:',alpha=0.5,label=r'$\\Delta=0.05$',color='gray')\n",
    "ax.plot(o_arr5,tau_l_arr5,'H:',alpha=0.5,label=r'$\\Delta=0.05$',color='brown')\n",
    "ax.plot(o_arr6,-tau_l_arr6,'h:',alpha=0.6,label=r'$\\Delta=0.05$',color='orange')\n",
    "#ax.plot(o_arr7,-tau_l_arr7,'o:',alpha=0.6,label=r'$\\Delta=0.05$',color='black')\n",
    "ax.set_xlabel(r'$NPA_{max}$ (deg)',fontsize=16)\n",
    "#ax.set_ylabel(r'${ \\tau}_{BY} \\cdot \\hat{l}$',fontsize=16)\n",
    "ax.set_ylabel(r'$g_{BY}$',fontsize=16)\n",
    "ax.legend(borderpad=0.1,labelspacing=0.1,handletextpad=0.1,loc='lower right',ncol=2)\n",
    "ax.text(130,0.010,'c/a=0.5 b/a=0.7')\n",
    "plt.savefig('tau_BY_obl.png')"
   ]
  },
  {
   "cell_type": "code",
   "execution_count": null,
   "metadata": {},
   "outputs": [],
   "source": []
  }
 ],
 "metadata": {
  "kernelspec": {
   "display_name": "Python 3 (ipykernel)",
   "language": "python",
   "name": "python3"
  },
  "language_info": {
   "codemirror_mode": {
    "name": "ipython",
    "version": 3
   },
   "file_extension": ".py",
   "mimetype": "text/x-python",
   "name": "python",
   "nbconvert_exporter": "python",
   "pygments_lexer": "ipython3",
   "version": "3.9.6"
  },
  "varInspector": {
   "cols": {
    "lenName": 16,
    "lenType": 16,
    "lenVar": 40
   },
   "kernels_config": {
    "python": {
     "delete_cmd_postfix": "",
     "delete_cmd_prefix": "del ",
     "library": "var_list.py",
     "varRefreshCmd": "print(var_dic_list())"
    },
    "r": {
     "delete_cmd_postfix": ") ",
     "delete_cmd_prefix": "rm(",
     "library": "var_list.r",
     "varRefreshCmd": "cat(var_dic_list()) "
    }
   },
   "types_to_exclude": [
    "module",
    "function",
    "builtin_function_or_method",
    "instance",
    "_Feature"
   ],
   "window_display": false
  }
 },
 "nbformat": 4,
 "nbformat_minor": 4
}
