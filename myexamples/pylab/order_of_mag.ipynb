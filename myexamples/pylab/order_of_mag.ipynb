{
 "cells": [
  {
   "cell_type": "code",
   "execution_count": 1,
   "metadata": {},
   "outputs": [],
   "source": [
    "import numpy as np\n",
    "import matplotlib.pyplot as plt\n",
    "%matplotlib inline"
   ]
  },
  {
   "cell_type": "code",
   "execution_count": 3,
   "metadata": {},
   "outputs": [
    {
     "name": "stdout",
     "output_type": "stream",
     "text": [
      "R2/R1 = 0.210\n",
      "R1/R2 = 4.76\n",
      "mass ratio q 0.0093\n",
      "M_1 = 5.32e+11 kg\n",
      "M_2 = 4.95e+09 kg\n",
      "P_1/P_orb 0.190\n",
      "P_orb/P_1 5.28\n"
     ]
    }
   ],
   "source": [
    "# Didymos and Dimorphous \n",
    "hour = 60*60.0\n",
    "day = 24*hour\n",
    "year = 365.25*day\n",
    "G = 6.78E-11  # gravitational constant kg-1 m^3/s^2\n",
    "fac = 4.0*np.pi/3.0\n",
    "muQ = 1.0e11 # Pa\n",
    "\n",
    "# see Naidu+20\n",
    "P_orbit = 11.9217*hour  #orbit period from hour to seconds\n",
    "n_o = (2*np.pi)/P_orbit  #mean motion  s^-1\n",
    "M_total = 5.37E11  # kg\n",
    "a_o  = 1.19e3 # in m semi-major axis or orbit (from km)\n",
    "\n",
    "P_1 = 2.26*hour # spin of primary Pravec+06\n",
    "\n",
    "R_1 = 780.0/2 # m primary radius, volume equiv sphere\n",
    "R_2 = 164./2  # m secondary radius\n",
    "# see Naidu+20\n",
    "\n",
    "print('R2/R1 = {:.3f}'.format(R_2/R_1))\n",
    "print('R1/R2 = {:.2f}'.format(R_1/R_2))\n",
    "\n",
    "q = (R_2/R_1)**3  # mass ratio\n",
    "print('mass ratio q {:.4f}'.format(q))\n",
    "M_1 = M_total/(1+q)\n",
    "M_2 = M_total*q/(1+q)\n",
    "print('M_1 = {:.2e} kg'.format(M_1))\n",
    "print('M_2 = {:.2e} kg'.format(M_2))\n",
    "print('P_1/P_orb {:.3f}'.format(P_1/P_orbit))\n",
    "print('P_orb/P_1 {:.2f}'.format(P_orbit/P_1))"
   ]
  },
  {
   "cell_type": "code",
   "execution_count": 9,
   "metadata": {},
   "outputs": [
    {
     "name": "stdout",
     "output_type": "stream",
     "text": [
      "rho_1 = 2141.3 kg/m3\n",
      "rho_2 = 2141.3 kg/m3\n"
     ]
    }
   ],
   "source": [
    "rho_1 = M_1/R_1**3/fac  # kg/m^3\n",
    "rho_2 = M_2/R_2**3/fac  # kg/m^3\n",
    "print ('rho_1 = {:.1f} kg/m3'.format(rho_1))  \n",
    "print ('rho_2 = {:.1f} kg/m3'.format(rho_2))  \n"
   ]
  },
  {
   "cell_type": "code",
   "execution_count": 12,
   "metadata": {},
   "outputs": [
    {
     "name": "stdout",
     "output_type": "stream",
     "text": [
      "omega_breakup 7.80e-04 rad/s\n",
      "P_breakup 2.24 hour\n",
      "P_1/P_breakup = 1.010\n",
      "P_2/P_breakup = 5.327\n"
     ]
    }
   ],
   "source": [
    "omega_breakup = np.sqrt(G*M_1/R_1**3)\n",
    "print('omega_breakup {:.2e} rad/s'.format(omega_breakup))\n",
    "P_breakup = 2*np.pi/omega_breakup\n",
    "print('P_breakup {:.2f} hour'.format(P_breakup/hour))\n",
    "print('P_1/P_breakup = {:.3f}'.format(P_1/P_breakup))\n",
    "print('P_2/P_breakup = {:.3f}'.format(P_orbit/P_breakup))"
   ]
  },
  {
   "cell_type": "code",
   "execution_count": 12,
   "metadata": {},
   "outputs": [
    {
     "name": "stdout",
     "output_type": "stream",
     "text": [
      "R_1/a_o 0.328\n",
      "a_o/R_1 3.051\n"
     ]
    }
   ],
   "source": [
    "print('R_1/a_o {:.3f}'.format(R_1/a_o))\n",
    "print('a_o/R_1 {:.3f}'.format(a_o/R_1))"
   ]
  },
  {
   "cell_type": "code",
   "execution_count": 17,
   "metadata": {},
   "outputs": [
    {
     "name": "stdout",
     "output_type": "stream",
     "text": [
      "Porbcheck 11.87 hour\n",
      "eg_1 = 829.6 Pa \n",
      "eg_2 = 36.7 Pa \n",
      "n_o = 1.5e-04 s-1\n",
      "n_o a_o = 0.17 m/s\n",
      "w_d 7.54e-04 s^-1\n",
      "P_d 2.32 hours\n",
      "om_breakup 7.80e-04 s-1\n"
     ]
    }
   ],
   "source": [
    "P_orb_check = 2*np.pi*np.sqrt(a_o**3/(G*(M_1+M_2)))\n",
    "print('Porbcheck {:.2f} hour'.format(P_orb_check/hour))\n",
    "eg_1 = G*M_1**2/R_1**4  #Pa\n",
    "eg_2 = G*M_2**2/R_2**4\n",
    "print('eg_1 = {:.1f} Pa '.format(eg_1))\n",
    "print('eg_2 = {:.1f} Pa '.format(eg_2))\n",
    "print('n_o = {:.1e} s-1'.format(n_o))\n",
    "print('n_o a_o = {:.2f} m/s'.format(n_o*a_o))\n",
    "\n",
    "#rho_2 = 2000.0  # 2g/cc\n",
    "w_d = np.sqrt(G*(4.0*np.pi/3.0) * rho_2)  # break up spin\n",
    "print('w_d {:.2e} s^-1'.format(w_d))\n",
    "P_d = 2.0*np.pi/w_d\n",
    "print('P_d {:.2f} hours'.format(P_d/hour))\n",
    "om_breakup = np.sqrt(G*4.*np.pi*rho_1/3.)\n",
    "print('om_breakup {:.2e} s-1'.format(om_breakup))"
   ]
  },
  {
   "cell_type": "code",
   "execution_count": 4,
   "metadata": {},
   "outputs": [
    {
     "name": "stdout",
     "output_type": "stream",
     "text": [
      "Fnot 1.01e+17 kg m s-2\n"
     ]
    }
   ],
   "source": [
    "cc = 3e8 # m/s speed o light\n",
    "Lsol=3.8E26  #  Watts solar luminosity\n",
    "Fnot = Lsol/(4*np.pi*cc) # solar radiation constant\n",
    "print('Fnot {:.2e} kg m s-2'.format(Fnot)) #units kg m s-2\n",
    "anot=1.5e11 # m 1 AU\n",
    "\n",
    "# solar constant \n",
    "H0= 1361.0 # W m−2 from Matija's paper, see https://en.wikipedia.org/wiki/Solar_constant\n",
    "\n",
    "au = 1.5e11 # m \n",
    "#F=Lsol/(4.0*np.pi*au**2) # is the same thing as H0\n",
    "#print(F) # consistent with H0\n"
   ]
  },
  {
   "cell_type": "markdown",
   "metadata": {},
   "source": [
    "$$ t_{despin,p} = P_{orb} \\left( \\frac{a}{R_p} \\right)^\\frac{9}{2} \n",
    "\\left( \\frac{M_p }{M_s} \\right)^\\frac{3}{2}\n",
    "\\left( \\frac{\\mu Q}{e_{g,p}}\\right) \n",
    "\\sqrt{\\frac{M_p + M_s}{M_s}}\n",
    "$$\n",
    "$$ t_{despin,s} = P_{orb} \\left( \\frac{a}{R_s} \\right)^\\frac{9}{2} \n",
    "\\left( \\frac{M_s }{M_p} \\right)^\\frac{3}{2}\n",
    "\\left( \\frac{\\mu Q}{e_{g,s}}\\right) \n",
    "\\sqrt{\\frac{M_p + M_s}{M_p}}\n",
    "$$"
   ]
  },
  {
   "cell_type": "code",
   "execution_count": 5,
   "metadata": {},
   "outputs": [
    {
     "name": "stdout",
     "output_type": "stream",
     "text": [
      "t_dspin_1 =2.4e+11 yr\n",
      "t_dspin_2 =5.3e+08 yr\n",
      "ratio 464.2\n"
     ]
    }
   ],
   "source": [
    "#for primary, time to spin down by tides\n",
    "def t_despin_1():\n",
    "    aratio  = (a_o/R_1)**4.5\n",
    "    mratio  = (M_1/M_2)**1.5\n",
    "    z = np.sqrt((M_1+M_2)/M_2) *(muQ/eg_1)*aratio*mratio*P_orbit\n",
    "    print('t_dspin_1 ={:.1e} yr'.format(z/year))\n",
    "    return z\n",
    "\n",
    "td_1 = t_despin_1()\n",
    "\n",
    "#for secondary, time to spin down by tides\n",
    "def t_despin_2():\n",
    "    aratio  = (a_o/R_2)**4.5\n",
    "    mratio  = (M_2/M_1)**1.5\n",
    "    z = np.sqrt((M_1+M_2)/M_1) *(muQ/eg_2)*aratio*mratio*P_orbit\n",
    "    print('t_dspin_2 ={:.1e} yr'.format(z/year))\n",
    "    return z\n",
    "\n",
    "td_2 = t_despin_2()\n",
    "print('ratio {:.1f}'.format( td_1/td_2))"
   ]
  },
  {
   "cell_type": "markdown",
   "metadata": {},
   "source": [
    " \n",
    "$$\\dot a_{tides} = 0.1 \\left( \\frac{R_p}{a} \\right)^5 \n",
    "\\left( \\frac{e_{g,p}}{\\mu Q} \\right) \n",
    "\\left(\\frac{M_s}{M_p} \\right)\n",
    "n a  \n",
    "$$\n",
    "$$t_{a,tides} = \\frac{a}{\\dot a_{tides}} $$"
   ]
  },
  {
   "cell_type": "code",
   "execution_count": 6,
   "metadata": {},
   "outputs": [
    {
     "name": "stdout",
     "output_type": "stream",
     "text": [
      "da/dt tides = 5.6e-13 cm/s\n",
      "da/dt tides = 5.6e-15 m/s\n",
      "t_a,tides  = 6.7e+09 yr\n"
     ]
    }
   ],
   "source": [
    "# orbital semi-major axis drift due to tides\n",
    "def da_dt_tides():\n",
    "    aratio  = (R_1/a_o)**5 \n",
    "    na = n_o*a_o\n",
    "    z = 0.1* (eg_1/muQ) * (M_2/M_1)* aratio*na  # this is da/dt\n",
    "    print('da/dt tides = {:.1e} cm/s'.format(z*100))\n",
    "    print('da/dt tides = {:.1e} m/s'.format(z))\n",
    "    t_a = a_o/z  \n",
    "    print('t_a,tides  = {:.1e} yr'.format(t_a/year))\n",
    "\n",
    "\n",
    "da_dt_tides()"
   ]
  },
  {
   "cell_type": "markdown",
   "metadata": {},
   "source": [
    "$$ \\dot a_{BYORP} = \\frac{3}{ 2 \\pi} \\left( \\frac{M_s}{M_p}\\right)^{-\\frac{1}{3}}\n",
    "\\frac{H_0 B}{\\omega_{breakup} \\rho_p R_p^2} a^\\frac{3}{2}  $$"
   ]
  },
  {
   "cell_type": "code",
   "execution_count": 7,
   "metadata": {},
   "outputs": [
    {
     "name": "stdout",
     "output_type": "stream",
     "text": [
      "da/dt BYORP 0.50 m/s\n"
     ]
    }
   ],
   "source": [
    "BB = 1e-3  #BYORP coefficient\n",
    "# BYORP semi-major axis drift rate\n",
    "def a_BY():\n",
    "    mratio = M_2/M_1 \n",
    "    z = 3.0/(2*np.pi)* H0*BB*a_o**1.5/(w_d*rho_1*R_1**2) * mratio**(-1.0/3.0)\n",
    "    print('da/dt BYORP {:.2f} m/s'.format(z))\n",
    "    return z\n",
    "    \n",
    "da_dt_BY =a_BY()"
   ]
  },
  {
   "cell_type": "markdown",
   "metadata": {},
   "source": [
    "$$ \\dot \\omega_{YORP} = \\frac{F_\\odot}{a_\\odot^2} \\frac{Y}{2 \\pi \\rho_p R_p^2} $$"
   ]
  },
  {
   "cell_type": "code",
   "execution_count": 8,
   "metadata": {},
   "outputs": [
    {
     "name": "stdout",
     "output_type": "stream",
     "text": [
      "domdt YORP 2.21e-17 rad/s\n",
      "t_YORP 1.12e+06 yr\n"
     ]
    }
   ],
   "source": [
    "Y=0.01 # YORP coeff\n",
    "# YORP spin up rate\n",
    "def dom_YORP():\n",
    "    dom = (Fnot/anot**2)*Y/(2*np.pi*rho_1*R_1**2)\n",
    "    print('domdt YORP {:.2e} rad/s'.format(dom) )\n",
    "    return dom\n",
    "\n",
    "# YORP spin up timescale\n",
    "def t_YORP():\n",
    "    dom= dom_YORP()\n",
    "    t_Y = om_breakup/dom\n",
    "    print('t_YORP {:.2e} yr'.format(t_Y/year))\n",
    "    \n",
    "t_YORP()   \n",
    "\n",
    "#dom = dom_YORP()"
   ]
  },
  {
   "cell_type": "code",
   "execution_count": 1,
   "metadata": {},
   "outputs": [
    {
     "ename": "ModuleNotFoundError",
     "evalue": "No module named 'pyquaternion'",
     "output_type": "error",
     "traceback": [
      "\u001b[0;31m---------------------------------------------------------------------------\u001b[0m",
      "\u001b[0;31mModuleNotFoundError\u001b[0m                       Traceback (most recent call last)",
      "\u001b[0;32m<ipython-input-1-3064da99ccf0>\u001b[0m in \u001b[0;36m<module>\u001b[0;34m\u001b[0m\n\u001b[0;32m----> 1\u001b[0;31m \u001b[0;32mfrom\u001b[0m \u001b[0mpyquaternion\u001b[0m \u001b[0;32mimport\u001b[0m \u001b[0mQuaternion\u001b[0m\u001b[0;34m\u001b[0m\u001b[0;34m\u001b[0m\u001b[0m\n\u001b[0m",
      "\u001b[0;31mModuleNotFoundError\u001b[0m: No module named 'pyquaternion'"
     ]
    }
   ],
   "source": [
    "from pyquaternion import Quaternion"
   ]
  },
  {
   "cell_type": "code",
   "execution_count": null,
   "metadata": {},
   "outputs": [],
   "source": []
  }
 ],
 "metadata": {
  "kernelspec": {
   "display_name": "Python 3",
   "language": "python",
   "name": "python3"
  },
  "language_info": {
   "codemirror_mode": {
    "name": "ipython",
    "version": 3
   },
   "file_extension": ".py",
   "mimetype": "text/x-python",
   "name": "python",
   "nbconvert_exporter": "python",
   "pygments_lexer": "ipython3",
   "version": "3.7.3"
  }
 },
 "nbformat": 4,
 "nbformat_minor": 4
}
