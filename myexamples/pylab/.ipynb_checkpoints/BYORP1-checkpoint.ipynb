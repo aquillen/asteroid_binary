{
 "cells": [
  {
   "cell_type": "code",
   "execution_count": 2,
   "metadata": {},
   "outputs": [],
   "source": [
    "import numpy as np\n",
    "import matplotlib.pyplot as plt\n",
    "%matplotlib inline\n",
    "\n",
    "import pymesh\n",
    "#https://pymesh.readthedocs.io/en/latest/basic.html\n",
    "\n",
    "\n",
    "import meshplot\n",
    "# for display of meshes\n",
    "#https://skoch9.github.io/meshplot/tutorial/\n",
    "\n",
    "import random\n"
   ]
  },
  {
   "cell_type": "markdown",
   "metadata": {},
   "source": [
    "### code for BYORP calculation"
   ]
  },
  {
   "cell_type": "code",
   "execution_count": 3,
   "metadata": {},
   "outputs": [
    {
     "data": {
      "application/vnd.jupyter.widget-view+json": {
       "model_id": "4390e11da07d4dbdba97f0a6936cb197",
       "version_major": 2,
       "version_minor": 0
      },
      "text/plain": [
       "Renderer(camera=PerspectiveCamera(children=(DirectionalLight(color='white', intensity=0.6, position=(0.0, 0.0,…"
      ]
     },
     "metadata": {},
     "output_type": "display_data"
    },
    {
     "data": {
      "text/plain": [
       "<meshplot.Viewer.Viewer at 0x7fe00b027080>"
      ]
     },
     "execution_count": 3,
     "metadata": {},
     "output_type": "execute_result"
    }
   ],
   "source": [
    "center = np.array([0,0,0])\n",
    "sphere = pymesh.generate_icosphere(1., center, refinement_order=2)\n",
    "sphere.add_attribute(\"face_area\")\n",
    "sphere.add_attribute(\"face_normal\")\n",
    "#mesh.add_attribute(\"face_centroid\")\n",
    "\n",
    "meshplot.plot(sphere.vertices, sphere.faces)"
   ]
  },
  {
   "cell_type": "code",
   "execution_count": 4,
   "metadata": {},
   "outputs": [
    {
     "data": {
      "application/vnd.jupyter.widget-view+json": {
       "model_id": "d876efa6551f427b9f5a3f275e5ed5c5",
       "version_major": 2,
       "version_minor": 0
      },
      "text/plain": [
       "Renderer(camera=PerspectiveCamera(children=(DirectionalLight(color='white', intensity=0.6, position=(0.0127277…"
      ]
     },
     "metadata": {},
     "output_type": "display_data"
    },
    {
     "data": {
      "text/plain": [
       "<meshplot.Viewer.Viewer at 0x7fe00b04da20>"
      ]
     },
     "execution_count": 4,
     "metadata": {},
     "output_type": "execute_result"
    }
   ],
   "source": [
    "# perturb a sphere,  we can't directly edit vertices or faces\n",
    "# see this:  https://github.com/PyMesh/PyMesh/issues/156\n",
    "# the work around is to copy the entire mesh after modifying it\n",
    "# randomly add devrand to x,y,z positions of each vertex\n",
    "# return a new mesh\n",
    "def sphere_perturb(sphere,devrand,aratio1,aratio2):\n",
    "    #devrand = 0.05  # how far to perturb each vertex\n",
    "    nv = len(sphere.vertices)\n",
    "    f = sphere.faces\n",
    "    v = np.copy(sphere.vertices)\n",
    "    for i in range(nv):\n",
    "        dx = devrand*random.uniform(-1,1)\n",
    "        dy = devrand*random.uniform(-1,1)\n",
    "        dz = devrand*random.uniform(-1,1)\n",
    "        v[i,2] *= aratio1 # 0.9  # make oblate, adjusts z\n",
    "        v[i,1] *= aratio2 # 1.2  # make elongated, adjusts y\n",
    "        v[i,0] += dx\n",
    "        v[i,1] += dy\n",
    "        v[i,2] += dz\n",
    "        sub_com(v)\n",
    "    psphere = pymesh.form_mesh(v, f)\n",
    "    psphere.add_attribute(\"face_area\")\n",
    "    psphere.add_attribute(\"face_normal\")\n",
    "    return psphere\n",
    "    \n",
    "\n",
    "# substract the center of mass from a list of vertices\n",
    "def sub_com(v):\n",
    "    nv = len(v)\n",
    "    xsum = np.sum(v[:,0])\n",
    "    ysum = np.sum(v[:,1])\n",
    "    zsum = np.sum(v[:,2])\n",
    "    xmean = xsum/nv\n",
    "    ymean = ysum/nv\n",
    "    zmean = zsum/nv\n",
    "    v[:,0]-= xmean \n",
    "    v[:,1]-= ymean \n",
    "    v[:,2]-= ymean \n",
    "    \n",
    "    #sub_com(v)\n",
    "    \n",
    "devrand = 0.05   # perturbation size\n",
    "aratio1 = 0.9   # axis ratios\n",
    "aratio2 = 1.2\n",
    "psphere = sphere_perturb(sphere,devrand,aratio1,aratio2)\n",
    "meshplot.plot(psphere.vertices, psphere.faces)\n",
    "# x is horizontal, y is up, z is out of plane"
   ]
  },
  {
   "cell_type": "markdown",
   "metadata": {},
   "source": [
    "The radiation force from the $i$-th facet is\n",
    "$$ {\\bf F}_i = - \\frac{\\Phi}{c} {S_i} (\\hat {\\bf n}_i \\cdot \\hat {\\bf s}) \\hat {\\bf n}_i $$\n",
    "where  $S_i$ is the area of the $i$-th facet and $\\hat {\\bf n}_i$ is its surface normal.\n",
    "Here $\\Phi$ is the solar flux and $c$ is the speed of light.\n",
    "The direction of the Sun is $\\hat {\\bf s}$.\n",
    "\n",
    "The total Yarkovsky force is a sum over all the facets \n",
    "$${\\bf F}_Y = \\sum_{i: \\hat {\\bf n}_i \\cdot \\hat {\\bf s} >0} {\\bf F}_i$$\n",
    "\n",
    "Only facets on the day side  or with $\\hat {\\bf n}_i \\cdot \\hat {\\bf s} >0$ \n",
    "are included in the sum.\n",
    "\n",
    "${\\bf F}_Y$ is the instantaneous Yarkovsky force.\n",
    "\n",
    "The Torque affecting the binary orbit is\n",
    "$$ {\\bf T} = \\int dt\\ {\\bf a} \\times {\\bf F}_Y $$\n",
    "where ${\\bf a}$ is the secondary's radial vector from the binary center of mass.\n",
    "If $\\hat {\\bf l}$ is the binary orbit normal then \n",
    "$$ {\\bf T} \\cdot \\hat {\\bf l} $$ \n",
    "changes the orbital angular momentu and  causes binary orbit migration.\n",
    "\n"
   ]
  },
  {
   "cell_type": "code",
   "execution_count": 5,
   "metadata": {},
   "outputs": [
    {
     "name": "stdout",
     "output_type": "stream",
     "text": [
      "13.746554937855999 -611.6236154708425 -7.382277817473765\n"
     ]
    }
   ],
   "source": [
    "# compute the radiation force instantaneously\n",
    "# s_hat is a 3 length np.array (a unit vector) pointing to the Sun\n",
    "# return Force (without Phi/c factor)\n",
    "def F_Y(mesh,s_hat):\n",
    "    s_len = np.sqrt(s_hat[0]**2 + s_hat[1]**2 + s_hat[2]**2)  # in case not normalized\n",
    "    #nf = len(mesh.faces)\n",
    "    S_i = mesh.get_face_attribute('face_area')  # vector of facet areas\n",
    "    f_normal = mesh.get_face_attribute('face_normal')  # vector of vector of facet normals\n",
    "    # normal components\n",
    "    nx = np.squeeze(f_normal[:,0])    # a vector\n",
    "    ny = np.squeeze(f_normal[:,1])\n",
    "    nz = np.squeeze(f_normal[:,2])\n",
    "    # dot product of n_i and s_hat\n",
    "    n_dot_s = (nx*s_hat[0] + ny*s_hat[1] + nz*s_hat[2])/s_len  # a vector\n",
    "    F_i_x = -S_i*n_dot_s*nx #  a vector\n",
    "    F_i_y = -S_i*n_dot_s*ny\n",
    "    F_i_z = -S_i*n_dot_s*nz\n",
    "    ii = (n_dot_s >0)  # the day side only\n",
    "    # sum only day lit facets\n",
    "    F_x = np.sum(F_i_x[ii]) # a number\n",
    "    F_y = np.sum(F_i_y[ii])\n",
    "    F_z = np.sum(F_i_z[ii])\n",
    "    return F_x,F_y,F_z # return force\n",
    "    \n",
    "        \n",
    "s_hat = np.array([0,1,0])  \n",
    "F_x,F_y,F_z = F_Y(psphere,s_hat)  \n",
    "print(F_x,F_y,F_z)"
   ]
  },
  {
   "cell_type": "code",
   "execution_count": 6,
   "metadata": {},
   "outputs": [
    {
     "name": "stdout",
     "output_type": "stream",
     "text": [
      "-1.1102230246251565e-16 -624.0264315302223 -1.2628786905111156e-15\n"
     ]
    }
   ],
   "source": [
    "# check the sphere, should only have a y component\n",
    "F_x,F_y,F_z = F_Y(sphere,s_hat)  \n",
    "print(F_x,F_y,F_z)"
   ]
  },
  {
   "cell_type": "markdown",
   "metadata": {},
   "source": [
    " passes test!"
   ]
  },
  {
   "cell_type": "code",
   "execution_count": 7,
   "metadata": {},
   "outputs": [],
   "source": [
    "# first rotate about the z axis by angle phi in radians\n",
    "# then tilt over the body by obliquity which is an angle in radians\n",
    "#     this tilts the z axis, and rotates about y axis by angle obliquity\n",
    "# returns: \n",
    "#     the tilted mesh\n",
    "#     the new z-body axis\n",
    "def tilt_obliq(mesh,obliquity,phi):\n",
    "    f = mesh.faces\n",
    "    v = np.copy(mesh.vertices)\n",
    "    nv = len(v)\n",
    "    axis1 = np.array([0,0,1]) # z axis\n",
    "    q1 = pymesh.Quaternion.fromAxisAngle(axis1, phi)\n",
    "    axis2 = np.array([0,1,0]) # y axis \n",
    "    q2 = pymesh.Quaternion.fromAxisAngle(axis2, obliquity)\n",
    "    for i in range(nv):\n",
    "        v[i] = q1.rotate(v[i])\n",
    "        v[i] = q2.rotate(v[i])\n",
    "    \n",
    "    new_mesh = pymesh.form_mesh(v, f)\n",
    "    new_mesh.add_attribute(\"face_area\")\n",
    "    new_mesh.add_attribute(\"face_normal\")\n",
    "    zaxis = np.array([0,0,1])\n",
    "    zrot = q2.rotate(zaxis) # body principal axis\n",
    "    return new_mesh,zrot\n",
    "    "
   ]
  },
  {
   "cell_type": "code",
   "execution_count": 8,
   "metadata": {},
   "outputs": [
    {
     "data": {
      "application/vnd.jupyter.widget-view+json": {
       "model_id": "eb7f4ba9a23f46fd96f2d281d8a3d80a",
       "version_major": 2,
       "version_minor": 0
      },
      "text/plain": [
       "Renderer(camera=PerspectiveCamera(children=(DirectionalLight(color='white', intensity=0.6, position=(0.0, 0.00…"
      ]
     },
     "metadata": {},
     "output_type": "display_data"
    },
    {
     "data": {
      "text/plain": [
       "<meshplot.Viewer.Viewer at 0x7fe00b06be80>"
      ]
     },
     "execution_count": 8,
     "metadata": {},
     "output_type": "execute_result"
    }
   ],
   "source": [
    "# give us a pancake or a flat elliptical object\n",
    "devrand = 0.0   # perturbation size\n",
    "aratio1 = 0.5   # axis ratios\n",
    "aratio2 = 1.5\n",
    "psphere2 = sphere_perturb(sphere,devrand,aratio1,aratio2)\n",
    "meshplot.plot(psphere2.vertices, psphere2.faces)"
   ]
  },
  {
   "cell_type": "code",
   "execution_count": 9,
   "metadata": {},
   "outputs": [
    {
     "data": {
      "application/vnd.jupyter.widget-view+json": {
       "model_id": "d7b54fc11e6242c88d29e03c4b1abc41",
       "version_major": 2,
       "version_minor": 0
      },
      "text/plain": [
       "Renderer(camera=PerspectiveCamera(children=(DirectionalLight(color='white', intensity=0.6, position=(0.0034860…"
      ]
     },
     "metadata": {},
     "output_type": "display_data"
    },
    {
     "name": "stdout",
     "output_type": "stream",
     "text": [
      "[0.08715574 0.         0.9961947 ]\n"
     ]
    }
   ],
   "source": [
    "# tilt the object to check the rotation routine\n",
    "obliquity = 5.*np.pi/180.\n",
    "phi = 60.*np.pi/180\n",
    "tsphere,zrot = tilt_obliq(psphere2,obliquity,phi)\n",
    "meshplot.plot(tsphere.vertices, tsphere.faces)\n",
    "print(zrot)"
   ]
  },
  {
   "cell_type": "code",
   "execution_count": 10,
   "metadata": {},
   "outputs": [],
   "source": [
    "# rotations look okay"
   ]
  },
  {
   "cell_type": "code",
   "execution_count": null,
   "metadata": {},
   "outputs": [],
   "source": []
  },
  {
   "cell_type": "code",
   "execution_count": null,
   "metadata": {},
   "outputs": [],
   "source": []
  },
  {
   "cell_type": "code",
   "execution_count": 11,
   "metadata": {},
   "outputs": [],
   "source": [
    "# position of the binary center of mass.  \n",
    "# Add this vector to the center of mass of secondary to get binary center of of mass\n",
    "bin_pos = np.array([10.,0,0])\n",
    "# direction to the Sun\n",
    "he_dir = np.array([0,1,0])  \n"
   ]
  }
 ],
 "metadata": {
  "kernelspec": {
   "display_name": "Python 3",
   "language": "python",
   "name": "python3"
  },
  "language_info": {
   "codemirror_mode": {
    "name": "ipython",
    "version": 3
   },
   "file_extension": ".py",
   "mimetype": "text/x-python",
   "name": "python",
   "nbconvert_exporter": "python",
   "pygments_lexer": "ipython3",
   "version": "3.7.3"
  }
 },
 "nbformat": 4,
 "nbformat_minor": 4
}
