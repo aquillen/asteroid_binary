{
 "cells": [
  {
   "cell_type": "code",
   "execution_count": 1,
   "metadata": {},
   "outputs": [],
   "source": [
    "import numpy as np\n",
    "import matplotlib.pyplot as plt\n",
    "%matplotlib inline\n",
    "\n",
    "import pymesh\n",
    "#https://pymesh.readthedocs.io/en/latest/basic.html\n",
    "\n",
    "\n",
    "import meshplot\n",
    "# for display of meshes\n",
    "#https://skoch9.github.io/meshplot/tutorial/\n",
    "\n",
    "import random\n"
   ]
  },
  {
   "cell_type": "markdown",
   "metadata": {},
   "source": [
    "### code for BYORP calculation"
   ]
  },
  {
   "cell_type": "markdown",
   "metadata": {},
   "source": [
    "\n",
    "The surface thermal inertia is neglected, so that thermal radiation is re-emitted with no time lag, and the reflected and thermally radiated components are assumed Lambertian (isotropic) and so emitted with flux\n",
    "parallel to the local surface normal. We ignore heat conduction. The surface is described with a closed\n",
    "triangular mesh.\n",
    "\n",
    "\n",
    "The radiation force from the $i$-th facet is\n",
    "$$ {\\bf F}_i  = - \\frac{\\Phi}{c} {S_i} (\\hat {\\bf n}_i \\cdot \\hat {\\bf s}_\\odot) \\hat {\\bf n}_i $$\n",
    "where  $S_i$ is the area of the $i$-th facet and $\\hat {\\bf n}_i$ is its surface normal.\n",
    "Here $\\Phi$ is the solar flux and $c$ is the speed of light.\n",
    "The direction of the Sun is $\\hat {\\bf s}_\\odot$.\n",
    "\n",
    "The total Yarkovsky force is a sum over all the facets \n",
    "$${\\bf F}_Y = \\sum_{i: \\hat {\\bf n}_i \\cdot \\hat {\\bf s}_\\odot >0} {\\bf F}_i $$\n",
    "Only facets on the day side  or with $\\hat {\\bf n}_i \\cdot \\hat {\\bf s}_\\odot >0$ \n",
    "are included in the sum.\n",
    "\n",
    "The torque affecting the binary orbit from a single facet is \n",
    "$$ {\\boldsymbol \\tau}_{i,B} = \n",
    "\\begin{cases} \n",
    "- \\frac{\\Phi}{c} {S_i} (\\hat {\\bf n}_i \\cdot \\hat {\\bf s}_\\odot) ( {\\bf a}_B \\times \\hat {\\bf n}_i)  \n",
    " & \\mbox{if } \\hat {\\bf n}_i \\cdot \\hat {\\bf s}_\\odot >0  \\\\\n",
    " 0 & \\mbox{otherwise}\n",
    " \\end{cases}\n",
    "$$\n",
    "where ${\\bf a}_B$ is the secondary's radial vector from the binary center of mass.\n",
    "\n",
    "\n",
    "The torque affecting the binary orbit is the sum of the torques from each facet and should be an average \n",
    "over the orbit around the Sun and \n",
    "over the binary orbit and spin of the secondary.\n",
    "$$ {\\boldsymbol \\tau}_{BY} = \\frac{1}{T} \\int_0^T dt\\   \\sum_{i: \\hat {\\bf n}_i \\cdot \\hat {\\bf s}_\\odot >0} \n",
    "{\\boldsymbol \\tau}_{i,B} $$\n",
    "\n",
    "\n",
    "If $\\hat {\\bf l}$ is the binary orbit normal then \n",
    "$$ {\\boldsymbol \\tau}_{BY} \\cdot \\hat {\\bf l} $$ \n",
    "changes the binary's orbital angular momentum and causes binary orbit migration.\n",
    "\n",
    "\n",
    "The torque affecting the spin (also known as YORP) instantaneously depends on \n",
    "the radii of each facit ${\\bf r}_i$ from the asteroid center of mass \n",
    "$$ {\\boldsymbol \\tau}_{i,s}  = \\begin{cases}\n",
    "- \\frac{\\Phi}{c} {S_i} (\\hat {\\bf n}_i \\cdot \\hat {\\bf s}_\\odot)  ({\\bf r}_i \\times \\hat{\\bf n}_i) \n",
    " & \\mbox{if } \\hat {\\bf n}_i \\cdot \\hat {\\bf s}_\\odot >0  \\\\\n",
    "0 & \\mbox{otherwise}\n",
    "\\end{cases}$$\n",
    "\n",
    "\n",
    "$$ {\\boldsymbol \\tau}_Y = \\frac{1}{T} \\int_0^T dt \\  \\sum_{i: \\hat {\\bf n}_i \\cdot \\hat {\\bf s}_\\odot >0} {\\boldsymbol \\tau}_{i,s} $$\n",
    "where the average is done over the orbit about the Sun and the spin of the asteroid.\n",
    "If the spin axis is $\\hat {\\boldsymbol \\omega}$ then \n",
    "$$ {\\boldsymbol \\tau}_Y \\cdot \\hat {\\boldsymbol \\omega}  $$ gives the body spin up or spin down rate.\n",
    "\n",
    "\n",
    "In practice we average over the Sun's directions first and then average over spin (for YORP) or and spin and binary orbit direction (for BYORP) afterward.\n"
   ]
  },
  {
   "cell_type": "markdown",
   "metadata": {},
   "source": [
    "<b> Units </b> for our calculation are $\\Phi/c = 1$.\n",
    "For YORP $R=1$.\n",
    "For BYORP $a_B = 1$ and $R=1$ (in the surface area).\n",
    "\n",
    "To put in physical units: \n",
    "\n",
    "Multiply ${\\boldsymbol \\tau}_Y$ by $\\frac{\\Phi R^3}{c}$.\n",
    "\n",
    "Multiply ${\\boldsymbol \\tau}_{BY}$ by $\\frac{\\Phi R^2 a_B}{c}$.\n",
    "\n",
    "Alternatively we are computing:\n",
    "\n",
    "${\\boldsymbol \\tau}_Y \\times \\frac{c}{\\Phi R^3} $ \n",
    "\n",
    "${\\boldsymbol \\tau}_{BY} \\times \\frac{c}{\\Phi R^2 a_B} $ \n",
    "\n"
   ]
  },
  {
   "cell_type": "markdown",
   "metadata": {},
   "source": [
    "<b> Assumptions:</b>\n",
    "\n",
    "Circular orbit for binary.\n",
    "\n",
    "Circuilar orbit for binary around Sun.\n",
    "\n",
    "No shadows.\n",
    "\n",
    "No conduction. Lambertian isotropic emission."
   ]
  },
  {
   "cell_type": "markdown",
   "metadata": {},
   "source": [
    "Coordinate system:\n",
    "binary orbit is kept in xy plane"
   ]
  },
  {
   "cell_type": "code",
   "execution_count": 2,
   "metadata": {},
   "outputs": [],
   "source": [
    "# perturb a sphere (mesh, premade) and stretch it so that\n",
    "# it becomes an ellipsoid.  \n",
    "#    We can't directly edit vertices or faces\n",
    "#    see this:  https://github.com/PyMesh/PyMesh/issues/156\n",
    "#    the work around is to copy the entire mesh after modifying it\n",
    "# arguments:\n",
    "#   devrand,  Randomly add devrand to x,y,z positions of each vertex\n",
    "#   aratio1 and aratio2,  stretch or compress a sphere by aratio1 and aratio2 \n",
    "# returns: a new mesh\n",
    "def sphere_perturb(sphere,devrand,aratio1,aratio2):\n",
    "    #devrand = 0.05  # how far to perturb each vertex\n",
    "    nv = len(sphere.vertices)\n",
    "    f = sphere.faces\n",
    "    v = np.copy(sphere.vertices)\n",
    "    for i in range(nv):\n",
    "        dx = devrand*random.uniform(-1,1)\n",
    "        dy = devrand*random.uniform(-1,1)\n",
    "        dz = devrand*random.uniform(-1,1)\n",
    "        v[i,2] *= aratio1 # 0.9  # make oblate, adjusts z\n",
    "        v[i,1] *= aratio2 # 1.2  # make elongated, adjusts y\n",
    "        v[i,0] += dx\n",
    "        v[i,1] += dy\n",
    "        v[i,2] += dz\n",
    "        sub_com(v)\n",
    "    psphere = pymesh.form_mesh(v, f)\n",
    "    psphere.add_attribute(\"face_area\")\n",
    "    psphere.add_attribute(\"face_normal\")\n",
    "    psphere.add_attribute(\"face_centroid\")\n",
    "    return psphere\n",
    "    \n",
    "\n",
    "# substract the center of mass from a list of vertices\n",
    "def sub_com(v):\n",
    "    nv = len(v)\n",
    "    xsum = np.sum(v[:,0])\n",
    "    ysum = np.sum(v[:,1])\n",
    "    zsum = np.sum(v[:,2])\n",
    "    xmean = xsum/nv\n",
    "    ymean = ysum/nv\n",
    "    zmean = zsum/nv\n",
    "    v[:,0]-= xmean \n",
    "    v[:,1]-= ymean \n",
    "    v[:,2]-= zmean \n",
    "    "
   ]
  },
  {
   "cell_type": "code",
   "execution_count": 3,
   "metadata": {},
   "outputs": [],
   "source": [
    "# compute the radiation force instantaneously on a triangular mesh for each facit\n",
    "# arguments:  \n",
    "#     mesh, the body (a triangular surface mesh)\n",
    "#     s_hat is a 3 length np.array (a unit vector) pointing to the Sun\n",
    "# return the vector F_i for each facet\n",
    "# returns:  F_i_x is the x component of F_i and is a vector that has the length of the number of faces\n",
    "# Force is zero if facets are not on the day side\n",
    "def F_i(mesh,s_hat):\n",
    "    s_len = np.sqrt(s_hat[0]**2 + s_hat[1]**2 + s_hat[2]**2)  # in case s_hat was not normalized\n",
    "    #nf = len(mesh.faces)\n",
    "    S_i = mesh.get_face_attribute('face_area')  # vector of facet areas\n",
    "    f_normal = mesh.get_face_attribute('face_normal')  # vector of vector of facet normals\n",
    "    # normal components \n",
    "    nx = np.squeeze(f_normal[:,0])    # a vector\n",
    "    ny = np.squeeze(f_normal[:,1])\n",
    "    nz = np.squeeze(f_normal[:,2])\n",
    "    # dot product of n_i and s_hat\n",
    "    n_dot_s = (nx*s_hat[0] + ny*s_hat[1] + nz*s_hat[2])/s_len  # a vector\n",
    "    F_i_x = -S_i*n_dot_s*nx #  a vector\n",
    "    F_i_y = -S_i*n_dot_s*ny\n",
    "    F_i_z = -S_i*n_dot_s*nz\n",
    "    ii = (n_dot_s <0)  # the night sides \n",
    "    F_i_x[ii] = 0  # get rid of night sides\n",
    "    F_i_y[ii] = 0\n",
    "    F_i_z[ii] = 0\n",
    "    return F_i_x,F_i_y,F_i_z   # these are each vectors for each face\n",
    "\n",
    "# compute radiation forces F_i for each face, but averaging over all positions of the Sun\n",
    "# a circular orbit for the asteroid is assumed\n",
    "# arguments: \n",
    "#    nphi_Sun is the number of solar angles, evenly spaced in 2pi so we are assuming circular orbit\n",
    "#    incl is solar orbit inclination in radians\n",
    "# returns: F_i_x average and other 2 components of forces for each facet\n",
    "def F_i_sun_ave(mesh,nphi_Sun,incl):\n",
    "    dphi = 2*np.pi/nphi_Sun\n",
    "    # compute the first set of forces so we have vectors the right length\n",
    "    phi = 0.0\n",
    "    s_hat = np.array([np.cos(phi)*np.cos(incl),np.sin(phi)*np.cos(incl),np.sin(incl)])\n",
    "    # compute the radiation force instantaneously on the triangular mesh for sun at s_hat\n",
    "    F_i_x_sum,F_i_y_sum,F_i_z_sum = F_i(mesh,s_hat)\n",
    "    # now compute the forces for the rest of the solar angles\n",
    "    for i in range(1,nphi_Sun): # do the rest of the angles\n",
    "        phi = i*dphi\n",
    "        s_hat = np.array([np.cos(phi)*np.cos(incl),np.sin(phi)*np.cos(incl),np.sin(incl)])\n",
    "        # compute the radiation force instantaneously on the triangular mesh for sun at s_hat\n",
    "        F_i_x,F_i_y,F_i_z= F_i(mesh,s_hat)\n",
    "        F_i_x_sum += F_i_x  # sum up forces\n",
    "        F_i_y_sum += F_i_y\n",
    "        F_i_z_sum += F_i_z\n",
    "    F_i_x_ave = F_i_x_sum/nphi_Sun  # average\n",
    "    F_i_y_ave = F_i_y_sum/nphi_Sun\n",
    "    F_i_z_ave = F_i_z_sum/nphi_Sun\n",
    "    return F_i_x_ave,F_i_y_ave,F_i_z_ave  # these are vectors for each face\n",
    "\n",
    "# compute cross product C=AxB using components\n",
    "def cross_prod_xyz(Ax,Ay,Az,Bx,By,Bz):\n",
    "    Cx = Ay*Bz - Az*By\n",
    "    Cy = Az*Bx - Ax*Bz\n",
    "    Cz = Ax*By - Ay*Bx\n",
    "    return Cx,Cy,Cz\n",
    "\n",
    "# compute total Yorp torque averaging over nphi_Sun solar positions\n",
    "# this is at a single body orientation\n",
    "# a circular orbit is assumed\n",
    "# arguments:\n",
    "#   mesh: the body\n",
    "#   nphi_Sun is the number of solar angles\n",
    "#   incl is solar orbit inclination in radians\n",
    "# returns: torque components\n",
    "def tau_Ys(mesh,nphi_Sun,incl):\n",
    "    # compute F_i for each face, but averaging over all positions of the Sun\n",
    "    F_i_x_ave, F_i_y_ave,F_i_z_ave = F_i_sun_ave(mesh,nphi_Sun,incl)\n",
    "    r_i = mesh.get_face_attribute(\"face_centroid\")  # radii to each facet\n",
    "    rx = np.squeeze(r_i[:,0])  # radius of centroid from center of mass\n",
    "    ry = np.squeeze(r_i[:,1])\n",
    "    rz = np.squeeze(r_i[:,2])\n",
    "    # cross product works on vectors\n",
    "    tau_i_x,tau_i_y,tau_i_z = cross_prod_xyz(rx,ry,rz,F_i_x_ave,F_i_y_ave,F_i_z_ave)\n",
    "    #This is the torque from each day lit facet\n",
    "    tau_x = np.sum(tau_i_x)  # sum up\n",
    "    tau_y = np.sum(tau_i_y)\n",
    "    tau_z = np.sum(tau_i_z)\n",
    "    return tau_x,tau_y,tau_z  # these are numbers for torque components\n",
    "\n",
    "# compute total BYORP averaging over nphi_Sun solar positions\n",
    "# for a single binary vector a_bin and body position described with mesh\n",
    "# arguments:\n",
    "#    incl is solar orbit inclination in radians\n",
    "#    nphi_Sun is the number of solar angles\n",
    "# returns: torque components\n",
    "def tau_Bs(mesh,nphi_Sun,incl,a_bin):\n",
    "    # compute F_i for each face, but averaging over all positions of the Sun\n",
    "    F_i_x_ave, F_i_y_ave,F_i_z_ave = F_i_sun_ave(mesh,nphi_Sun,incl)\n",
    "    F_x = np.sum(F_i_x_ave)  #sum up the force\n",
    "    F_y = np.sum(F_i_y_ave)\n",
    "    F_z = np.sum(F_i_z_ave)\n",
    "    a_x = a_bin[0]  # binary direction\n",
    "    a_y = a_bin[1]\n",
    "    a_z = a_bin[2]\n",
    "    tau_x,tau_y,tau_z = cross_prod_xyz(a_x,a_y,a_z,F_x,F_y,F_z) # cross product\n",
    "    return tau_x,tau_y,tau_z  # these are numbers that gives the torque components\n",
    "        "
   ]
  },
  {
   "cell_type": "code",
   "execution_count": 15,
   "metadata": {},
   "outputs": [],
   "source": [
    "# first rotate vertices in the mesh about the z axis by angle phi in radians\n",
    "# then tilt over the body by obliquity which is an angle in radians\n",
    "#     this tilts the z axis, and rotates about y axis by angle obliquity\n",
    "# returns: \n",
    "#     new_mesh: the tilted/rotated mesh\n",
    "#     zrot:  the new z-body spin axis\n",
    "def tilt_obliq(mesh,obliquity,phi):\n",
    "    f = mesh.faces\n",
    "    v = np.copy(mesh.vertices)\n",
    "    nv = len(v)\n",
    "    axis1 = np.array([0,0,1]) # z axis\n",
    "    q1 = pymesh.Quaternion.fromAxisAngle(axis1, phi)\n",
    "    axis2 = np.array([0,1,0]) # y axis \n",
    "    q2 = pymesh.Quaternion.fromAxisAngle(axis2, obliquity)\n",
    "    # loop over all vertices and do two rotations\n",
    "    for i in range(nv):\n",
    "        v[i] = q1.rotate(v[i]) # spin\n",
    "        v[i] = q2.rotate(v[i]) # tilt\n",
    "    \n",
    "    new_mesh = pymesh.form_mesh(v, f)\n",
    "    new_mesh.add_attribute(\"face_area\")\n",
    "    new_mesh.add_attribute(\"face_normal\")\n",
    "    new_mesh.add_attribute(\"face_centroid\")\n",
    "    zaxis = np.array([0,0,1])\n",
    "    zrot = q2.rotate(zaxis) # body principal axis\n",
    "    return new_mesh,zrot\n",
    "    \n",
    "\n",
    "# tilt,spin a body and compute binary direction, assuming tidally locked\n",
    "# arguments:\n",
    "#   body:  triangular surface mesh (in principal axis coordinate system)\n",
    "#   nphi is the number of angles that could be done with indexing by iphi\n",
    "#   obliquity:  w.r.t to binary orbit angular momentum direction\n",
    "#   iphi:  number of rotations by dphi where dphi = 2pi/nphi\n",
    "#      this is principal axis rotation about z axis\n",
    "#   phi0: an offset for phi applied to body but not binary axis\n",
    "# returns: \n",
    "#   tbody, a body rotated  after iphi rotations by dphi and tilted by obliquity\n",
    "#   a_bin, binary direction assuming same rotation rate, tidal lock\n",
    "#   l_bin:  binary orbit angular momentum orbital axis\n",
    "#   zrot:  spin axis direction \n",
    "def tilt_and_bin(body,obliquity,nphi,iphi,phi0):\n",
    "    dphi = 2*np.pi/nphi\n",
    "    phi = iphi*dphi \n",
    "    tbody,zrot = tilt_obliq(body,obliquity,phi + phi0)  # tilt and spin body\n",
    "    a_bin = np.array([np.cos(phi),np.sin(phi),0.0])   # direction to binary\n",
    "    l_bin = np.array([0,0,1.0])  # angular momentum axis of binary orbit\n",
    "    return tbody,a_bin,l_bin,zrot"
   ]
  },
  {
   "cell_type": "code",
   "execution_count": 17,
   "metadata": {},
   "outputs": [],
   "source": [
    "# compute the YORP torque on body\n",
    "# arguments:\n",
    "#   body:  triangular surface mesh (in principal axis coordinate system)\n",
    "#   nphi is number of body angles spin\n",
    "#   nphi_Sun is the number of solar angles used\n",
    "# returns: \n",
    "#   3 torque components \n",
    "#   and torque dot spin axis so spin down rate can be computed\n",
    "def compute_Y(body,obliquity,nphi,nphi_Sun):\n",
    "    incl = 0.0\n",
    "    tau_Y_x = 0.0\n",
    "    tau_Y_y = 0.0\n",
    "    tau_Y_z = 0.0\n",
    "    for iphi in range(nphi):  # body positions\n",
    "        # rotate the body and tilt it over\n",
    "        tbody,a_bin,l_bin,zrot = tilt_and_bin(body,obliquity,nphi,iphi,0)\n",
    "        # compute torques over solar positions\n",
    "        tau_x,tau_y,tau_z = tau_Ys(tbody,nphi_Sun,incl)\n",
    "        tau_Y_x += tau_x\n",
    "        tau_Y_y += tau_y\n",
    "        tau_Y_z += tau_z\n",
    "        \n",
    "    tau_Y_x /= nphi  # average\n",
    "    tau_Y_y /= nphi\n",
    "    tau_Y_z /= nphi\n",
    "    # compute component that affects spin down, this is tau dot zrot\n",
    "    # where zrot is spin axis\n",
    "    tau_s = tau_Y_x*zrot[0] + tau_Y_y*zrot[1]+tau_Y_z*zrot[2]\n",
    "    return tau_Y_x,tau_Y_y,tau_Y_z,tau_s \n",
    "\n",
    "# compute the BYORP torque, for a tidally locked binary\n",
    "# arguments:\n",
    "#   body:  triangular surface mesh (in principal axis coordinate system)\n",
    "#   nphi is the number of body angles (spin)\n",
    "#   obliquity is body tilt w.r.t to binary orbit\n",
    "#   incl is solar orbit inclination \n",
    "#   nphi_Sun is the number of solar angles used\n",
    "#   phi0 an offset for body angle that is not applied to binary direction\n",
    "# returns:\n",
    "#   3 torque components\n",
    "#   torque dot l_bin so can compute binary orbit drift rate\n",
    "def compute_BY(body,obliquity,nphi,nphi_Sun,incl,phi0):\n",
    "    tau_BY_x = 0.0\n",
    "    tau_BY_y = 0.0\n",
    "    tau_BY_z = 0.0\n",
    "    for iphi in range(nphi):  # body positions\n",
    "        # rotate the body and tilt it over, and find binary direction\n",
    "        tbody,a_bin,l_bin,zrot = tilt_and_bin(body,obliquity,nphi,iphi,phi0)\n",
    "        # a_bin is binary direction\n",
    "        # compute torques over solar positions\n",
    "        tau_x,tau_y,tau_z =tau_Bs(tbody,nphi_Sun,incl,a_bin)\n",
    "        tau_BY_x += tau_x\n",
    "        tau_BY_y += tau_y\n",
    "        tau_BY_z += tau_z\n",
    "        \n",
    "    tau_BY_x /= nphi  # average\n",
    "    tau_BY_y /= nphi\n",
    "    tau_BY_z /= nphi\n",
    "    # compute component that affects binary orbit angular momentum\n",
    "    # this is tau dot l_bin\n",
    "    tau_l = tau_BY_x*l_bin[0] + tau_BY_y*l_bin[1] + tau_BY_z*l_bin[2] \n",
    "    return tau_BY_x,tau_BY_y,tau_BY_z, tau_l "
   ]
  },
  {
   "cell_type": "code",
   "execution_count": null,
   "metadata": {},
   "outputs": [],
   "source": []
  },
  {
   "cell_type": "code",
   "execution_count": 24,
   "metadata": {
    "scrolled": false
   },
   "outputs": [
    {
     "data": {
      "application/vnd.jupyter.widget-view+json": {
       "model_id": "d66f005d2eb24fb8b2d766ba1c75189d",
       "version_major": 2,
       "version_minor": 0
      },
      "text/plain": [
       "Renderer(camera=PerspectiveCamera(children=(DirectionalLight(color='white', intensity=0.6, position=(-0.003503…"
      ]
     },
     "metadata": {},
     "output_type": "display_data"
    }
   ],
   "source": [
    "# create a sphere of radius 1\n",
    "center = np.array([0,0,0])\n",
    "sphere = pymesh.generate_icosphere(1., center, refinement_order=2)\n",
    "sphere.add_attribute(\"face_area\")\n",
    "sphere.add_attribute(\"face_normal\")\n",
    "sphere.add_attribute(\"face_centroid\")\n",
    "\n",
    "# create a perturbed ellipsoid using the above sphere\n",
    "devrand = 0.05  # perturbation size\n",
    "aratio1 = 0.5   # axis ratios\n",
    "aratio2 = 0.7\n",
    "body = sphere_perturb(sphere,devrand,aratio1,aratio2)  # create it\n",
    "p=meshplot.plot(body.vertices, body.faces,return_plot=True)  # show it\n",
    "# add a red line which could show where the binary is\n",
    "r = 1.5; theta = np.pi/4\n",
    "p0 = np.array([0,0,0]); p1 = np.array([r*np.cos(theta),r*np.sin(theta),0])\n",
    "p.add_lines(p0, p1, shading={\"line_color\": \"red\", \"line_width\": 1.0}); "
   ]
  },
  {
   "cell_type": "code",
   "execution_count": 25,
   "metadata": {},
   "outputs": [
    {
     "name": "stdout",
     "output_type": "stream",
     "text": [
      "4.066962815901181e-17 -5.869147760388198e-17 0.019197695341092155 0.019197695341092155\n"
     ]
    }
   ],
   "source": [
    "# see if compute_Y works on body\n",
    "nphi_Sun=36\n",
    "nphi = 36\n",
    "obliquity=0\n",
    "tau_Y_x,tau_Y_y,tau_Y_z,tau_s =compute_Y(body,obliquity,nphi,nphi_Sun)\n",
    "print(tau_Y_x ,tau_Y_y ,tau_Y_z,tau_s)"
   ]
  },
  {
   "cell_type": "code",
   "execution_count": 26,
   "metadata": {},
   "outputs": [
    {
     "name": "stdout",
     "output_type": "stream",
     "text": [
      "-2.6020852139652106e-16 1.892776059343583e-16 0.4358262476718356 0.4358262476718356\n"
     ]
    }
   ],
   "source": [
    "# see if compute_BY works on body \n",
    "incl=0.0\n",
    "tau_BY_x,tau_BY_y,tau_BY_z, tau_l =compute_BY(body,obliquity,nphi,nphi_Sun,incl,0)\n",
    "print(tau_BY_x ,tau_BY_y ,tau_BY_z,tau_l)\n",
    "tau_BY_x,tau_BY_y,tau_BY_z, tau_l =compute_BY(body,obliquity,nphi,nphi_Sun,incl,np.pi)\n",
    "print(tau_BY_x ,tau_BY_y ,tau_BY_z,tau_l)"
   ]
  },
  {
   "cell_type": "code",
   "execution_count": 27,
   "metadata": {},
   "outputs": [
    {
     "name": "stdout",
     "output_type": "stream",
     "text": [
      "-3.969008161289817e-18 2.3277594767811178e-17 -2.499688342119357e-19 -2.499688342119357e-19\n"
     ]
    }
   ],
   "source": [
    "# see if compute_Y works on sphere\n",
    "tau_Y_x,tau_Y_y,tau_Y_z,tau_s =compute_Y(sphere,obliquity,nphi,nphi_Sun)\n",
    "print(tau_Y_x ,tau_Y_y ,tau_Y_z,tau_s)"
   ]
  },
  {
   "cell_type": "code",
   "execution_count": 30,
   "metadata": {},
   "outputs": [
    {
     "name": "stdout",
     "output_type": "stream",
     "text": [
      "-5.595358419814442e-18 2.4864000473804274e-18 -2.9892375441659205e-15 -2.9892375441659205e-15\n",
      "-1.3636380826015685e-18 -2.8688106646487715e-17 0.042790529909042634 0.042790529909042634\n"
     ]
    }
   ],
   "source": [
    "# see how compute_BY works on sphere\n",
    "tau_BY_x,tau_BY_y,tau_BY_z, tau_l =compute_BY(sphere,obliquity,nphi,nphi_Sun,incl,0.05)\n",
    "print(tau_BY_x,tau_BY_y,tau_BY_z,tau_l)\n",
    "# see how compute_BY works on sphere\n",
    "tau_BY_x,tau_BY_y,tau_BY_z, tau_l =compute_BY(sphere,obliquity,nphi,nphi_Sun,incl,0.0)\n",
    "print(tau_BY_x,tau_BY_y,tau_BY_z,tau_l)"
   ]
  },
  {
   "cell_type": "code",
   "execution_count": null,
   "metadata": {},
   "outputs": [],
   "source": [
    "# all tests so far seem reasonable, sphere gives a BYORP but is sensitive to initial angle of rotation\n",
    "# as our sphere is multifaceted. \n",
    "# the size is smaller than for our other shape"
   ]
  },
  {
   "cell_type": "code",
   "execution_count": null,
   "metadata": {},
   "outputs": [],
   "source": []
  },
  {
   "cell_type": "code",
   "execution_count": null,
   "metadata": {},
   "outputs": [],
   "source": []
  },
  {
   "cell_type": "code",
   "execution_count": null,
   "metadata": {},
   "outputs": [],
   "source": []
  },
  {
   "cell_type": "code",
   "execution_count": null,
   "metadata": {},
   "outputs": [],
   "source": []
  },
  {
   "cell_type": "code",
   "execution_count": null,
   "metadata": {},
   "outputs": [],
   "source": [
    "# old stuff below"
   ]
  },
  {
   "cell_type": "code",
   "execution_count": null,
   "metadata": {},
   "outputs": [],
   "source": [
    "# compute the radiation force instantaneously on a triangular mesh\n",
    "# s_hat is a 3 length np.array (a unit vector) pointing to the Sun\n",
    "# return Force vector (without Phi/c factor)\n",
    "def F_Y(mesh,s_hat):\n",
    "    s_len = np.sqrt(s_hat[0]**2 + s_hat[1]**2 + s_hat[2]**2)  # in case not normalized\n",
    "    #nf = len(mesh.faces)\n",
    "    S_i = mesh.get_face_attribute('face_area')  # vector of facet areas\n",
    "    f_normal = mesh.get_face_attribute('face_normal')  # vector of vector of facet normals\n",
    "    # normal components\n",
    "    nx = np.squeeze(f_normal[:,0])    # a vector\n",
    "    ny = np.squeeze(f_normal[:,1])\n",
    "    nz = np.squeeze(f_normal[:,2])\n",
    "    # dot product of n_i and s_hat\n",
    "    n_dot_s = (nx*s_hat[0] + ny*s_hat[1] + nz*s_hat[2])/s_len  # a vector\n",
    "    F_i_x = -S_i*n_dot_s*nx #  a vector\n",
    "    F_i_y = -S_i*n_dot_s*ny\n",
    "    F_i_z = -S_i*n_dot_s*nz\n",
    "    ii = (n_dot_s >0)  # the day side only \n",
    "    # sum only day lit facets\n",
    "    F_x = np.sum(F_i_x[ii]) # a number\n",
    "    F_y = np.sum(F_i_y[ii])\n",
    "    F_z = np.sum(F_i_z[ii])\n",
    "    F_vec = np.zeros(3)  # the force vector\n",
    "    F_vec[0] = F_x;  F_vec[1] = F_y; F_vec[2] = F_z\n",
    "    #return F_x,F_y,F_z # return force\n",
    "    return F_vec\n",
    "    \n",
    "#test       \n",
    "#s_hat = np.array([0,1,0])  \n",
    "#F_x,F_y,F_z = F_Y(psphere,s_hat)  \n",
    "#print(F_x,F_y,F_z)\n",
    "\n",
    "\n",
    "# compute cross product C=AxB\n",
    "def cross_prod(A,B):\n",
    "    C = np.zeros(3)\n",
    "    Cx = A[1]*B[2] - A[2]*B[1]\n",
    "    Cy = A[2]*B[0] - A[0]*B[2]\n",
    "    Cz = A[0]*B[1] - A[1]*B[0]\n",
    "    C[0] = Cx; C[1]= Cy; C[2] = Cz\n",
    "    return C\n",
    "\n",
    "\n",
    "# do an average of radiative Forces at different solar angles\n",
    "def F_Y_Sunave(mesh,nphi):\n",
    "    dphi=2.*np.pi/nphi\n",
    "    F_vec_sum = np.zeros(3)\n",
    "    for i in range(nphi):\n",
    "        phi = i*dphi\n",
    "        s_hat = np.array([np.cos(phi),np.sin(phi),0])\n",
    "        F_vec = F_Y(mesh,s_hat)\n",
    "        F_vec_sum += F_vec\n",
    "    return F_vec_sum/nphi"
   ]
  },
  {
   "cell_type": "code",
   "execution_count": null,
   "metadata": {},
   "outputs": [],
   "source": []
  },
  {
   "cell_type": "code",
   "execution_count": null,
   "metadata": {},
   "outputs": [],
   "source": [
    "obliquity=0; phi = 0; nphi=36; \n",
    "nphisol=360\n",
    "for iphi in range(nphi):\n",
    "    tbody,a_bin,l_bin=tilt_and_bin(body,obliquity,nphi,iphi)\n",
    "    #tbody,zrot = tilt_obliq(body,obliquity,phi)\n",
    "    F_ave = F_Y_Sunave(tbody,nphisol)\n",
    "    print(F_ave)\n"
   ]
  },
  {
   "cell_type": "code",
   "execution_count": null,
   "metadata": {},
   "outputs": [],
   "source": [
    "# older tests below"
   ]
  },
  {
   "cell_type": "code",
   "execution_count": null,
   "metadata": {},
   "outputs": [],
   "source": [
    "# test here looks okay!\n",
    "# rotate body and show binary direction at the same time.\n",
    "tbody,a_bin,l_bin = tilt_and_bin(body,0,20,4)\n",
    "p=meshplot.plot(tbody.vertices, tbody.faces,return_plot=True)\n",
    "# add a line which could show where the binary is\n",
    "r = 1.5; \n",
    "p0 = np.array([0,0,0]); p1 = 1.5*a_bin\n",
    "p.add_lines(p0, p1, shading={\"line_color\": \"red\", \"line_width\": 1.0}); "
   ]
  },
  {
   "cell_type": "code",
   "execution_count": null,
   "metadata": {},
   "outputs": [],
   "source": [
    "# tilt the object to check the rotation routine, test passed\n",
    "obliquity = 5.*np.pi/180.\n",
    "phi = 60.*np.pi/180\n",
    "tsphere,zrot = tilt_obliq(psphere2,obliquity,phi)\n",
    "#meshplot.plot(tsphere.vertices, tsphere.faces)\n",
    "#print(zrot)"
   ]
  },
  {
   "cell_type": "code",
   "execution_count": null,
   "metadata": {},
   "outputs": [],
   "source": []
  },
  {
   "cell_type": "code",
   "execution_count": null,
   "metadata": {},
   "outputs": [],
   "source": []
  }
 ],
 "metadata": {
  "kernelspec": {
   "display_name": "Python 3",
   "language": "python",
   "name": "python3"
  },
  "language_info": {
   "codemirror_mode": {
    "name": "ipython",
    "version": 3
   },
   "file_extension": ".py",
   "mimetype": "text/x-python",
   "name": "python",
   "nbconvert_exporter": "python",
   "pygments_lexer": "ipython3",
   "version": "3.8.3"
  }
 },
 "nbformat": 4,
 "nbformat_minor": 4
}
