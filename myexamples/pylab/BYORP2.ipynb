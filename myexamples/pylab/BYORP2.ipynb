{
 "cells": [
  {
   "cell_type": "code",
   "execution_count": 1,
   "metadata": {},
   "outputs": [],
   "source": [
    "import numpy as np\n",
    "import matplotlib.pyplot as plt\n",
    "%matplotlib inline\n",
    "\n",
    "import pymesh\n",
    "#https://pymesh.readthedocs.io/en/latest/basic.html\n",
    "\n",
    "\n",
    "import meshplot\n",
    "# for display of meshes\n",
    "#https://skoch9.github.io/meshplot/tutorial/\n",
    "\n",
    "import random\n"
   ]
  },
  {
   "cell_type": "markdown",
   "metadata": {},
   "source": [
    "### code for BYORP calculation"
   ]
  },
  {
   "cell_type": "markdown",
   "metadata": {},
   "source": [
    "The radiation force from the $i$-th facet is\n",
    "$$ {\\bf F}_i = - \\frac{\\Phi}{c} {S_i} (\\hat {\\bf n}_i \\cdot \\hat {\\bf s}) \\hat {\\bf n}_i $$\n",
    "where  $S_i$ is the area of the $i$-th facet and $\\hat {\\bf n}_i$ is its surface normal.\n",
    "Here $\\Phi$ is the solar flux and $c$ is the speed of light.\n",
    "The direction of the Sun is $\\hat {\\bf s}$.\n",
    "\n",
    "The total Yarkovsky force is a sum over all the facets \n",
    "$${\\bf F}_Y = \\sum_{i: \\hat {\\bf n}_i \\cdot \\hat {\\bf s} >0} {\\bf F}_i$$\n",
    "\n",
    "Only facets on the day side  or with $\\hat {\\bf n}_i \\cdot \\hat {\\bf s} >0$ \n",
    "are included in the sum.\n",
    "\n",
    "${\\bf F}_Y$ is the instantaneous Yarkovsky force.\n",
    "\n",
    "The Torque affecting the binary orbit is\n",
    "$$ {\\bf T} = \\int dt\\ {\\bf a} \\times {\\bf F}_Y $$\n",
    "where ${\\bf a}$ is the secondary's radial vector from the binary center of mass.\n",
    "If $\\hat {\\bf l}$ is the binary orbit normal then \n",
    "$$ {\\bf T} \\cdot \\hat {\\bf l} $$ \n",
    "changes the orbital angular momentu and  causes binary orbit migration.\n",
    "\n"
   ]
  },
  {
   "cell_type": "code",
   "execution_count": 4,
   "metadata": {},
   "outputs": [],
   "source": [
    "# perturb a sphere (mesh, premade) and stretch it so that\n",
    "# it becomes an ellipsoid.  \n",
    "#    We can't directly edit vertices or faces\n",
    "#    see this:  https://github.com/PyMesh/PyMesh/issues/156\n",
    "#    the work around is to copy the entire mesh after modifying it\n",
    "# Randomly add devrand to x,y,z positions of each vertex\n",
    "# stretch or compress by aratio1 and aratio2 \n",
    "# return a new mesh\n",
    "def sphere_perturb(sphere,devrand,aratio1,aratio2):\n",
    "    #devrand = 0.05  # how far to perturb each vertex\n",
    "    nv = len(sphere.vertices)\n",
    "    f = sphere.faces\n",
    "    v = np.copy(sphere.vertices)\n",
    "    for i in range(nv):\n",
    "        dx = devrand*random.uniform(-1,1)\n",
    "        dy = devrand*random.uniform(-1,1)\n",
    "        dz = devrand*random.uniform(-1,1)\n",
    "        v[i,2] *= aratio1 # 0.9  # make oblate, adjusts z\n",
    "        v[i,1] *= aratio2 # 1.2  # make elongated, adjusts y\n",
    "        v[i,0] += dx\n",
    "        v[i,1] += dy\n",
    "        v[i,2] += dz\n",
    "        sub_com(v)\n",
    "    psphere = pymesh.form_mesh(v, f)\n",
    "    psphere.add_attribute(\"face_area\")\n",
    "    psphere.add_attribute(\"face_normal\")\n",
    "    return psphere\n",
    "    \n",
    "\n",
    "# substract the center of mass from a list of vertices\n",
    "def sub_com(v):\n",
    "    nv = len(v)\n",
    "    xsum = np.sum(v[:,0])\n",
    "    ysum = np.sum(v[:,1])\n",
    "    zsum = np.sum(v[:,2])\n",
    "    xmean = xsum/nv\n",
    "    ymean = ysum/nv\n",
    "    zmean = zsum/nv\n",
    "    v[:,0]-= xmean \n",
    "    v[:,1]-= ymean \n",
    "    v[:,2]-= ymean \n",
    "    "
   ]
  },
  {
   "cell_type": "code",
   "execution_count": 5,
   "metadata": {},
   "outputs": [],
   "source": [
    "# compute the radiation force instantaneously on a triangular mesh\n",
    "# s_hat is a 3 length np.array (a unit vector) pointing to the Sun\n",
    "# return Force vector (without Phi/c factor)\n",
    "def F_Y(mesh,s_hat):\n",
    "    s_len = np.sqrt(s_hat[0]**2 + s_hat[1]**2 + s_hat[2]**2)  # in case not normalized\n",
    "    #nf = len(mesh.faces)\n",
    "    S_i = mesh.get_face_attribute('face_area')  # vector of facet areas\n",
    "    f_normal = mesh.get_face_attribute('face_normal')  # vector of vector of facet normals\n",
    "    # normal components\n",
    "    nx = np.squeeze(f_normal[:,0])    # a vector\n",
    "    ny = np.squeeze(f_normal[:,1])\n",
    "    nz = np.squeeze(f_normal[:,2])\n",
    "    # dot product of n_i and s_hat\n",
    "    n_dot_s = (nx*s_hat[0] + ny*s_hat[1] + nz*s_hat[2])/s_len  # a vector\n",
    "    F_i_x = -S_i*n_dot_s*nx #  a vector\n",
    "    F_i_y = -S_i*n_dot_s*ny\n",
    "    F_i_z = -S_i*n_dot_s*nz\n",
    "    ii = (n_dot_s >0)  # the day side only \n",
    "    # sum only day lit facets\n",
    "    F_x = np.sum(F_i_x[ii]) # a number\n",
    "    F_y = np.sum(F_i_y[ii])\n",
    "    F_z = np.sum(F_i_z[ii])\n",
    "    F_vec = np.zeros(3)  # the force vector\n",
    "    F_vec[0] = F_x;  F_vec[1] = F_y; F_vec[2] = F_z\n",
    "    #return F_x,F_y,F_z # return force\n",
    "    return F_vec\n",
    "    \n",
    "#test       \n",
    "#s_hat = np.array([0,1,0])  \n",
    "#F_x,F_y,F_z = F_Y(psphere,s_hat)  \n",
    "#print(F_x,F_y,F_z)\n",
    "\n",
    "\n",
    "# compute cross product C=AxB\n",
    "def cross_prod(A,B):\n",
    "    C = np.zeros(3)\n",
    "    Cx = A[1]*B[2] - A[2]*B[1]\n",
    "    Cy = A[2]*B[0] - A[0]*B[2]\n",
    "    Cz = A[0]*B[1] - A[1]*B[0]\n",
    "    C[0] = Cx; C[1]= Cy; C[2] = Cz\n",
    "    return C"
   ]
  },
  {
   "cell_type": "code",
   "execution_count": 6,
   "metadata": {},
   "outputs": [],
   "source": [
    "# first rotate vertices in the mesh about the z axis by angle phi in radians\n",
    "# then tilt over the body by obliquity which is an angle in radians\n",
    "#     this tilts the z axis, and rotates about y axis by angle obliquity\n",
    "# returns: \n",
    "#     the tilted mesh\n",
    "#     the new z-body axis\n",
    "def tilt_obliq(mesh,obliquity,phi):\n",
    "    f = mesh.faces\n",
    "    v = np.copy(mesh.vertices)\n",
    "    nv = len(v)\n",
    "    axis1 = np.array([0,0,1]) # z axis\n",
    "    q1 = pymesh.Quaternion.fromAxisAngle(axis1, phi)\n",
    "    axis2 = np.array([0,1,0]) # y axis \n",
    "    q2 = pymesh.Quaternion.fromAxisAngle(axis2, obliquity)\n",
    "    for i in range(nv):\n",
    "        v[i] = q1.rotate(v[i])\n",
    "        v[i] = q2.rotate(v[i])\n",
    "    \n",
    "    new_mesh = pymesh.form_mesh(v, f)\n",
    "    new_mesh.add_attribute(\"face_area\")\n",
    "    new_mesh.add_attribute(\"face_normal\")\n",
    "    zaxis = np.array([0,0,1])\n",
    "    zrot = q2.rotate(zaxis) # body principal axis\n",
    "    return new_mesh,zrot\n",
    "    "
   ]
  },
  {
   "cell_type": "code",
   "execution_count": 7,
   "metadata": {},
   "outputs": [],
   "source": [
    "# create a sphere of radius 1\n",
    "center = np.array([0,0,0])\n",
    "sphere = pymesh.generate_icosphere(1., center, refinement_order=2)\n",
    "sphere.add_attribute(\"face_area\")\n",
    "sphere.add_attribute(\"face_normal\")\n",
    "#mesh.add_attribute(\"face_centroid\")\n",
    "#meshplot.plot(sphere.vertices, sphere.faces)"
   ]
  },
  {
   "cell_type": "code",
   "execution_count": 28,
   "metadata": {},
   "outputs": [
    {
     "data": {
      "application/vnd.jupyter.widget-view+json": {
       "model_id": "37b8cbfb9f3b4e69a647b3e6f8c75d44",
       "version_major": 2,
       "version_minor": 0
      },
      "text/plain": [
       "Renderer(camera=PerspectiveCamera(children=(DirectionalLight(color='white', intensity=0.6, position=(-0.012445…"
      ]
     },
     "metadata": {},
     "output_type": "display_data"
    }
   ],
   "source": [
    "# create a perturbed ellipsoid using the above sphere\n",
    "devrand = 0.05  # perturbation size\n",
    "aratio1 = 0.5   # axis ratios\n",
    "aratio2 = 0.7\n",
    "body = sphere_perturb(sphere,devrand,aratio1,aratio2)  # create it\n",
    "p=meshplot.plot(body.vertices, body.faces,return_plot=True)  # show it\n",
    "# add a red line which could show where the binary is\n",
    "r = 1.5; theta = np.pi/4\n",
    "p0 = np.array([0,0,0]); p1 = np.array([r*np.cos(theta),r*np.sin(theta),0])\n",
    "p.add_lines(p0, p1, shading={\"line_color\": \"red\", \"line_width\": 1.0}); "
   ]
  },
  {
   "cell_type": "code",
   "execution_count": 29,
   "metadata": {},
   "outputs": [],
   "source": [
    "# return a body rotated and tilted after iphi rotations by dphi\n",
    "# also return binary direction assuming same rotation rate\n",
    "# and return binary angular momentum orbital axis\n",
    "# for tidally locked setting, circular orbit\n",
    "def tilt_and_bin(body,obliquity,nphi,iphi):\n",
    "    dphi = 2*np.pi/nphi\n",
    "    phi = iphi*dphi\n",
    "    tbody,zrot = tilt_obliq(body,obliquity,phi)\n",
    "    a_bin = np.array([np.cos(phi),np.sin(phi),0.0])   # direction to binary\n",
    "    l_bin = np.array([0,0,1.0])  # angular momentum axis of binary orbit\n",
    "    return tbody,a_bin,l_bin"
   ]
  },
  {
   "cell_type": "code",
   "execution_count": 35,
   "metadata": {},
   "outputs": [
    {
     "data": {
      "application/vnd.jupyter.widget-view+json": {
       "model_id": "e8bd8867ed014ee6b516159620bde9e1",
       "version_major": 2,
       "version_minor": 0
      },
      "text/plain": [
       "Renderer(camera=PerspectiveCamera(children=(DirectionalLight(color='white', intensity=0.6, position=(-0.006743…"
      ]
     },
     "metadata": {},
     "output_type": "display_data"
    }
   ],
   "source": [
    "# test here looks okay!\n",
    "# rotate body and show binary direction at the same time.\n",
    "tbody,a_bin,l_bin = tilt_and_bin(body,0,20,4)\n",
    "p=meshplot.plot(tbody.vertices, tbody.faces,return_plot=True)\n",
    "# add a line which could show where the binary is\n",
    "r = 1.5; \n",
    "p0 = np.array([0,0,0]); p1 = 1.5*a_bin\n",
    "p.add_lines(p0, p1, shading={\"line_color\": \"red\", \"line_width\": 1.0}); "
   ]
  },
  {
   "cell_type": "code",
   "execution_count": null,
   "metadata": {},
   "outputs": [],
   "source": []
  },
  {
   "cell_type": "code",
   "execution_count": null,
   "metadata": {},
   "outputs": [],
   "source": []
  },
  {
   "cell_type": "code",
   "execution_count": 88,
   "metadata": {},
   "outputs": [
    {
     "data": {
      "application/vnd.jupyter.widget-view+json": {
       "model_id": "a3e43e9bea2949f380b5a53f20a6cb09",
       "version_major": 2,
       "version_minor": 0
      },
      "text/plain": [
       "Renderer(camera=PerspectiveCamera(children=(DirectionalLight(color='white', intensity=0.6, position=(0.0034860…"
      ]
     },
     "metadata": {},
     "output_type": "display_data"
    },
    {
     "name": "stdout",
     "output_type": "stream",
     "text": [
      "[0.08715574 0.         0.9961947 ]\n"
     ]
    }
   ],
   "source": [
    "# tilt the object to check the rotation routine, test passed\n",
    "obliquity = 5.*np.pi/180.\n",
    "phi = 60.*np.pi/180\n",
    "tsphere,zrot = tilt_obliq(psphere2,obliquity,phi)\n",
    "#meshplot.plot(tsphere.vertices, tsphere.faces)\n",
    "#print(zrot)"
   ]
  },
  {
   "cell_type": "code",
   "execution_count": null,
   "metadata": {},
   "outputs": [],
   "source": []
  },
  {
   "cell_type": "code",
   "execution_count": null,
   "metadata": {},
   "outputs": [],
   "source": []
  }
 ],
 "metadata": {
  "kernelspec": {
   "display_name": "Python 3",
   "language": "python",
   "name": "python3"
  },
  "language_info": {
   "codemirror_mode": {
    "name": "ipython",
    "version": 3
   },
   "file_extension": ".py",
   "mimetype": "text/x-python",
   "name": "python",
   "nbconvert_exporter": "python",
   "pygments_lexer": "ipython3",
   "version": "3.8.3"
  }
 },
 "nbformat": 4,
 "nbformat_minor": 4
}
